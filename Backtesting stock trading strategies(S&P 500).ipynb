{
 "cells": [
  {
   "cell_type": "markdown",
   "id": "a6fbf248",
   "metadata": {},
   "source": [
    "# Backtesting Stock Trading Strategies "
   ]
  },
  {
   "cell_type": "code",
   "execution_count": 1,
   "id": "5fb4dc0d",
   "metadata": {},
   "outputs": [],
   "source": [
    "import pandas as pd\n",
    "import numpy as np\n",
    "import matplotlib.pyplot as plt\n",
    "import seaborn as sns\n",
    "plt.style.use('seaborn')\n",
    "\n",
    "from sklearn import metrics\n",
    "from sklearn.metrics import f1_score \n",
    "from sklearn.metrics import accuracy_score                 \n",
    "from sklearn.metrics import confusion_matrix, classification_report\n",
    "from sklearn.model_selection import GridSearchCV "
   ]
  },
  {
   "cell_type": "markdown",
   "id": "b63a9f51",
   "metadata": {},
   "source": [
    "## Web Scraping and Data Analysis"
   ]
  },
  {
   "cell_type": "code",
   "execution_count": 2,
   "id": "1747f468",
   "metadata": {},
   "outputs": [
    {
     "name": "stdout",
     "output_type": "stream",
     "text": [
      "[*********************100%***********************]  1 of 1 completed\n"
     ]
    },
    {
     "data": {
      "text/html": [
       "<div>\n",
       "<style scoped>\n",
       "    .dataframe tbody tr th:only-of-type {\n",
       "        vertical-align: middle;\n",
       "    }\n",
       "\n",
       "    .dataframe tbody tr th {\n",
       "        vertical-align: top;\n",
       "    }\n",
       "\n",
       "    .dataframe thead th {\n",
       "        text-align: right;\n",
       "    }\n",
       "</style>\n",
       "<table border=\"1\" class=\"dataframe\">\n",
       "  <thead>\n",
       "    <tr style=\"text-align: right;\">\n",
       "      <th></th>\n",
       "      <th>Open</th>\n",
       "      <th>High</th>\n",
       "      <th>Low</th>\n",
       "      <th>Close</th>\n",
       "      <th>Adj Close</th>\n",
       "      <th>Volume</th>\n",
       "    </tr>\n",
       "    <tr>\n",
       "      <th>Date</th>\n",
       "      <th></th>\n",
       "      <th></th>\n",
       "      <th></th>\n",
       "      <th></th>\n",
       "      <th></th>\n",
       "      <th></th>\n",
       "    </tr>\n",
       "  </thead>\n",
       "  <tbody>\n",
       "    <tr>\n",
       "      <th>2014-06-02</th>\n",
       "      <td>1923.869995</td>\n",
       "      <td>1925.880005</td>\n",
       "      <td>1915.979980</td>\n",
       "      <td>1924.969971</td>\n",
       "      <td>1924.969971</td>\n",
       "      <td>2509020000</td>\n",
       "    </tr>\n",
       "    <tr>\n",
       "      <th>2014-06-03</th>\n",
       "      <td>1923.069946</td>\n",
       "      <td>1925.069946</td>\n",
       "      <td>1918.790039</td>\n",
       "      <td>1924.239990</td>\n",
       "      <td>1924.239990</td>\n",
       "      <td>2867180000</td>\n",
       "    </tr>\n",
       "    <tr>\n",
       "      <th>2014-06-04</th>\n",
       "      <td>1923.060059</td>\n",
       "      <td>1928.630005</td>\n",
       "      <td>1918.599976</td>\n",
       "      <td>1927.880005</td>\n",
       "      <td>1927.880005</td>\n",
       "      <td>2793920000</td>\n",
       "    </tr>\n",
       "    <tr>\n",
       "      <th>2014-06-05</th>\n",
       "      <td>1928.520020</td>\n",
       "      <td>1941.739990</td>\n",
       "      <td>1922.930054</td>\n",
       "      <td>1940.459961</td>\n",
       "      <td>1940.459961</td>\n",
       "      <td>3113270000</td>\n",
       "    </tr>\n",
       "    <tr>\n",
       "      <th>2014-06-06</th>\n",
       "      <td>1942.410034</td>\n",
       "      <td>1949.439941</td>\n",
       "      <td>1942.410034</td>\n",
       "      <td>1949.439941</td>\n",
       "      <td>1949.439941</td>\n",
       "      <td>2864300000</td>\n",
       "    </tr>\n",
       "    <tr>\n",
       "      <th>...</th>\n",
       "      <td>...</td>\n",
       "      <td>...</td>\n",
       "      <td>...</td>\n",
       "      <td>...</td>\n",
       "      <td>...</td>\n",
       "      <td>...</td>\n",
       "    </tr>\n",
       "    <tr>\n",
       "      <th>2019-05-24</th>\n",
       "      <td>2832.409912</td>\n",
       "      <td>2841.360107</td>\n",
       "      <td>2820.189941</td>\n",
       "      <td>2826.060059</td>\n",
       "      <td>2826.060059</td>\n",
       "      <td>2887390000</td>\n",
       "    </tr>\n",
       "    <tr>\n",
       "      <th>2019-05-28</th>\n",
       "      <td>2830.030029</td>\n",
       "      <td>2840.510010</td>\n",
       "      <td>2801.580078</td>\n",
       "      <td>2802.389893</td>\n",
       "      <td>2802.389893</td>\n",
       "      <td>4121410000</td>\n",
       "    </tr>\n",
       "    <tr>\n",
       "      <th>2019-05-29</th>\n",
       "      <td>2790.250000</td>\n",
       "      <td>2792.030029</td>\n",
       "      <td>2766.060059</td>\n",
       "      <td>2783.020020</td>\n",
       "      <td>2783.020020</td>\n",
       "      <td>3700050000</td>\n",
       "    </tr>\n",
       "    <tr>\n",
       "      <th>2019-05-30</th>\n",
       "      <td>2786.939941</td>\n",
       "      <td>2799.000000</td>\n",
       "      <td>2776.739990</td>\n",
       "      <td>2788.860107</td>\n",
       "      <td>2788.860107</td>\n",
       "      <td>3273790000</td>\n",
       "    </tr>\n",
       "    <tr>\n",
       "      <th>2019-05-31</th>\n",
       "      <td>2766.149902</td>\n",
       "      <td>2768.979980</td>\n",
       "      <td>2750.520020</td>\n",
       "      <td>2752.060059</td>\n",
       "      <td>2752.060059</td>\n",
       "      <td>3981020000</td>\n",
       "    </tr>\n",
       "  </tbody>\n",
       "</table>\n",
       "<p>1259 rows × 6 columns</p>\n",
       "</div>"
      ],
      "text/plain": [
       "                   Open         High          Low        Close    Adj Close  \\\n",
       "Date                                                                          \n",
       "2014-06-02  1923.869995  1925.880005  1915.979980  1924.969971  1924.969971   \n",
       "2014-06-03  1923.069946  1925.069946  1918.790039  1924.239990  1924.239990   \n",
       "2014-06-04  1923.060059  1928.630005  1918.599976  1927.880005  1927.880005   \n",
       "2014-06-05  1928.520020  1941.739990  1922.930054  1940.459961  1940.459961   \n",
       "2014-06-06  1942.410034  1949.439941  1942.410034  1949.439941  1949.439941   \n",
       "...                 ...          ...          ...          ...          ...   \n",
       "2019-05-24  2832.409912  2841.360107  2820.189941  2826.060059  2826.060059   \n",
       "2019-05-28  2830.030029  2840.510010  2801.580078  2802.389893  2802.389893   \n",
       "2019-05-29  2790.250000  2792.030029  2766.060059  2783.020020  2783.020020   \n",
       "2019-05-30  2786.939941  2799.000000  2776.739990  2788.860107  2788.860107   \n",
       "2019-05-31  2766.149902  2768.979980  2750.520020  2752.060059  2752.060059   \n",
       "\n",
       "                Volume  \n",
       "Date                    \n",
       "2014-06-02  2509020000  \n",
       "2014-06-03  2867180000  \n",
       "2014-06-04  2793920000  \n",
       "2014-06-05  3113270000  \n",
       "2014-06-06  2864300000  \n",
       "...                ...  \n",
       "2019-05-24  2887390000  \n",
       "2019-05-28  4121410000  \n",
       "2019-05-29  3700050000  \n",
       "2019-05-30  3273790000  \n",
       "2019-05-31  3981020000  \n",
       "\n",
       "[1259 rows x 6 columns]"
      ]
     },
     "execution_count": 2,
     "metadata": {},
     "output_type": "execute_result"
    }
   ],
   "source": [
    "import yfinance as yf\n",
    "ticker = '^GSPC'\n",
    "start = '2014-06-01'\n",
    "end = '2019-06-01'\n",
    "GSPC = yf.download(ticker, start=start, end=end)\n",
    "GSPC"
   ]
  },
  {
   "cell_type": "code",
   "execution_count": 3,
   "id": "f5e24da2",
   "metadata": {},
   "outputs": [],
   "source": [
    "GSPC.to_csv('GSPC.csv')"
   ]
  },
  {
   "cell_type": "code",
   "execution_count": 4,
   "id": "dac59bc5",
   "metadata": {},
   "outputs": [
    {
     "data": {
      "text/html": [
       "<div>\n",
       "<style scoped>\n",
       "    .dataframe tbody tr th:only-of-type {\n",
       "        vertical-align: middle;\n",
       "    }\n",
       "\n",
       "    .dataframe tbody tr th {\n",
       "        vertical-align: top;\n",
       "    }\n",
       "\n",
       "    .dataframe thead th {\n",
       "        text-align: right;\n",
       "    }\n",
       "</style>\n",
       "<table border=\"1\" class=\"dataframe\">\n",
       "  <thead>\n",
       "    <tr style=\"text-align: right;\">\n",
       "      <th></th>\n",
       "      <th>Open</th>\n",
       "      <th>High</th>\n",
       "      <th>Low</th>\n",
       "      <th>Close</th>\n",
       "      <th>Adj Close</th>\n",
       "      <th>Volume</th>\n",
       "    </tr>\n",
       "    <tr>\n",
       "      <th>Date</th>\n",
       "      <th></th>\n",
       "      <th></th>\n",
       "      <th></th>\n",
       "      <th></th>\n",
       "      <th></th>\n",
       "      <th></th>\n",
       "    </tr>\n",
       "  </thead>\n",
       "  <tbody>\n",
       "    <tr>\n",
       "      <th>2014-06-02</th>\n",
       "      <td>1923.869995</td>\n",
       "      <td>1925.880005</td>\n",
       "      <td>1915.979980</td>\n",
       "      <td>1924.969971</td>\n",
       "      <td>1924.969971</td>\n",
       "      <td>2509020000</td>\n",
       "    </tr>\n",
       "    <tr>\n",
       "      <th>2014-06-03</th>\n",
       "      <td>1923.069946</td>\n",
       "      <td>1925.069946</td>\n",
       "      <td>1918.790039</td>\n",
       "      <td>1924.239990</td>\n",
       "      <td>1924.239990</td>\n",
       "      <td>2867180000</td>\n",
       "    </tr>\n",
       "    <tr>\n",
       "      <th>2014-06-04</th>\n",
       "      <td>1923.060059</td>\n",
       "      <td>1928.630005</td>\n",
       "      <td>1918.599976</td>\n",
       "      <td>1927.880005</td>\n",
       "      <td>1927.880005</td>\n",
       "      <td>2793920000</td>\n",
       "    </tr>\n",
       "    <tr>\n",
       "      <th>2014-06-05</th>\n",
       "      <td>1928.520020</td>\n",
       "      <td>1941.739990</td>\n",
       "      <td>1922.930054</td>\n",
       "      <td>1940.459961</td>\n",
       "      <td>1940.459961</td>\n",
       "      <td>3113270000</td>\n",
       "    </tr>\n",
       "    <tr>\n",
       "      <th>2014-06-06</th>\n",
       "      <td>1942.410034</td>\n",
       "      <td>1949.439941</td>\n",
       "      <td>1942.410034</td>\n",
       "      <td>1949.439941</td>\n",
       "      <td>1949.439941</td>\n",
       "      <td>2864300000</td>\n",
       "    </tr>\n",
       "    <tr>\n",
       "      <th>...</th>\n",
       "      <td>...</td>\n",
       "      <td>...</td>\n",
       "      <td>...</td>\n",
       "      <td>...</td>\n",
       "      <td>...</td>\n",
       "      <td>...</td>\n",
       "    </tr>\n",
       "    <tr>\n",
       "      <th>2019-05-24</th>\n",
       "      <td>2832.409912</td>\n",
       "      <td>2841.360107</td>\n",
       "      <td>2820.189941</td>\n",
       "      <td>2826.060059</td>\n",
       "      <td>2826.060059</td>\n",
       "      <td>2887390000</td>\n",
       "    </tr>\n",
       "    <tr>\n",
       "      <th>2019-05-28</th>\n",
       "      <td>2830.030029</td>\n",
       "      <td>2840.510010</td>\n",
       "      <td>2801.580078</td>\n",
       "      <td>2802.389893</td>\n",
       "      <td>2802.389893</td>\n",
       "      <td>4121410000</td>\n",
       "    </tr>\n",
       "    <tr>\n",
       "      <th>2019-05-29</th>\n",
       "      <td>2790.250000</td>\n",
       "      <td>2792.030029</td>\n",
       "      <td>2766.060059</td>\n",
       "      <td>2783.020020</td>\n",
       "      <td>2783.020020</td>\n",
       "      <td>3700050000</td>\n",
       "    </tr>\n",
       "    <tr>\n",
       "      <th>2019-05-30</th>\n",
       "      <td>2786.939941</td>\n",
       "      <td>2799.000000</td>\n",
       "      <td>2776.739990</td>\n",
       "      <td>2788.860107</td>\n",
       "      <td>2788.860107</td>\n",
       "      <td>3273790000</td>\n",
       "    </tr>\n",
       "    <tr>\n",
       "      <th>2019-05-31</th>\n",
       "      <td>2766.149902</td>\n",
       "      <td>2768.979980</td>\n",
       "      <td>2750.520020</td>\n",
       "      <td>2752.060059</td>\n",
       "      <td>2752.060059</td>\n",
       "      <td>3981020000</td>\n",
       "    </tr>\n",
       "  </tbody>\n",
       "</table>\n",
       "<p>1259 rows × 6 columns</p>\n",
       "</div>"
      ],
      "text/plain": [
       "                   Open         High          Low        Close    Adj Close  \\\n",
       "Date                                                                          \n",
       "2014-06-02  1923.869995  1925.880005  1915.979980  1924.969971  1924.969971   \n",
       "2014-06-03  1923.069946  1925.069946  1918.790039  1924.239990  1924.239990   \n",
       "2014-06-04  1923.060059  1928.630005  1918.599976  1927.880005  1927.880005   \n",
       "2014-06-05  1928.520020  1941.739990  1922.930054  1940.459961  1940.459961   \n",
       "2014-06-06  1942.410034  1949.439941  1942.410034  1949.439941  1949.439941   \n",
       "...                 ...          ...          ...          ...          ...   \n",
       "2019-05-24  2832.409912  2841.360107  2820.189941  2826.060059  2826.060059   \n",
       "2019-05-28  2830.030029  2840.510010  2801.580078  2802.389893  2802.389893   \n",
       "2019-05-29  2790.250000  2792.030029  2766.060059  2783.020020  2783.020020   \n",
       "2019-05-30  2786.939941  2799.000000  2776.739990  2788.860107  2788.860107   \n",
       "2019-05-31  2766.149902  2768.979980  2750.520020  2752.060059  2752.060059   \n",
       "\n",
       "                Volume  \n",
       "Date                    \n",
       "2014-06-02  2509020000  \n",
       "2014-06-03  2867180000  \n",
       "2014-06-04  2793920000  \n",
       "2014-06-05  3113270000  \n",
       "2014-06-06  2864300000  \n",
       "...                ...  \n",
       "2019-05-24  2887390000  \n",
       "2019-05-28  4121410000  \n",
       "2019-05-29  3700050000  \n",
       "2019-05-30  3273790000  \n",
       "2019-05-31  3981020000  \n",
       "\n",
       "[1259 rows x 6 columns]"
      ]
     },
     "execution_count": 4,
     "metadata": {},
     "output_type": "execute_result"
    }
   ],
   "source": [
    "data = pd.read_csv('GSPC.csv', parse_dates=['Date'], index_col='Date')\n",
    "data"
   ]
  },
  {
   "cell_type": "code",
   "execution_count": 5,
   "id": "a06a4c0a",
   "metadata": {},
   "outputs": [
    {
     "data": {
      "text/html": [
       "<div>\n",
       "<style scoped>\n",
       "    .dataframe tbody tr th:only-of-type {\n",
       "        vertical-align: middle;\n",
       "    }\n",
       "\n",
       "    .dataframe tbody tr th {\n",
       "        vertical-align: top;\n",
       "    }\n",
       "\n",
       "    .dataframe thead th {\n",
       "        text-align: right;\n",
       "    }\n",
       "</style>\n",
       "<table border=\"1\" class=\"dataframe\">\n",
       "  <thead>\n",
       "    <tr style=\"text-align: right;\">\n",
       "      <th></th>\n",
       "      <th>Close</th>\n",
       "    </tr>\n",
       "    <tr>\n",
       "      <th>Date</th>\n",
       "      <th></th>\n",
       "    </tr>\n",
       "  </thead>\n",
       "  <tbody>\n",
       "    <tr>\n",
       "      <th>2014-06-02</th>\n",
       "      <td>1924.969971</td>\n",
       "    </tr>\n",
       "    <tr>\n",
       "      <th>2014-06-03</th>\n",
       "      <td>1924.239990</td>\n",
       "    </tr>\n",
       "    <tr>\n",
       "      <th>2014-06-04</th>\n",
       "      <td>1927.880005</td>\n",
       "    </tr>\n",
       "    <tr>\n",
       "      <th>2014-06-05</th>\n",
       "      <td>1940.459961</td>\n",
       "    </tr>\n",
       "    <tr>\n",
       "      <th>2014-06-06</th>\n",
       "      <td>1949.439941</td>\n",
       "    </tr>\n",
       "    <tr>\n",
       "      <th>...</th>\n",
       "      <td>...</td>\n",
       "    </tr>\n",
       "    <tr>\n",
       "      <th>2019-05-24</th>\n",
       "      <td>2826.060059</td>\n",
       "    </tr>\n",
       "    <tr>\n",
       "      <th>2019-05-28</th>\n",
       "      <td>2802.389893</td>\n",
       "    </tr>\n",
       "    <tr>\n",
       "      <th>2019-05-29</th>\n",
       "      <td>2783.020020</td>\n",
       "    </tr>\n",
       "    <tr>\n",
       "      <th>2019-05-30</th>\n",
       "      <td>2788.860107</td>\n",
       "    </tr>\n",
       "    <tr>\n",
       "      <th>2019-05-31</th>\n",
       "      <td>2752.060059</td>\n",
       "    </tr>\n",
       "  </tbody>\n",
       "</table>\n",
       "<p>1259 rows × 1 columns</p>\n",
       "</div>"
      ],
      "text/plain": [
       "                  Close\n",
       "Date                   \n",
       "2014-06-02  1924.969971\n",
       "2014-06-03  1924.239990\n",
       "2014-06-04  1927.880005\n",
       "2014-06-05  1940.459961\n",
       "2014-06-06  1949.439941\n",
       "...                 ...\n",
       "2019-05-24  2826.060059\n",
       "2019-05-28  2802.389893\n",
       "2019-05-29  2783.020020\n",
       "2019-05-30  2788.860107\n",
       "2019-05-31  2752.060059\n",
       "\n",
       "[1259 rows x 1 columns]"
      ]
     },
     "execution_count": 5,
     "metadata": {},
     "output_type": "execute_result"
    }
   ],
   "source": [
    "df = data['Close'].to_frame()\n",
    "df"
   ]
  },
  {
   "cell_type": "code",
   "execution_count": 6,
   "id": "6d076505",
   "metadata": {},
   "outputs": [
    {
     "data": {
      "text/html": [
       "<div>\n",
       "<style scoped>\n",
       "    .dataframe tbody tr th:only-of-type {\n",
       "        vertical-align: middle;\n",
       "    }\n",
       "\n",
       "    .dataframe tbody tr th {\n",
       "        vertical-align: top;\n",
       "    }\n",
       "\n",
       "    .dataframe thead th {\n",
       "        text-align: right;\n",
       "    }\n",
       "</style>\n",
       "<table border=\"1\" class=\"dataframe\">\n",
       "  <thead>\n",
       "    <tr style=\"text-align: right;\">\n",
       "      <th></th>\n",
       "      <th>Close</th>\n",
       "    </tr>\n",
       "  </thead>\n",
       "  <tbody>\n",
       "    <tr>\n",
       "      <th>count</th>\n",
       "      <td>1259.000000</td>\n",
       "    </tr>\n",
       "    <tr>\n",
       "      <th>mean</th>\n",
       "      <td>2332.778967</td>\n",
       "    </tr>\n",
       "    <tr>\n",
       "      <th>std</th>\n",
       "      <td>320.174441</td>\n",
       "    </tr>\n",
       "    <tr>\n",
       "      <th>min</th>\n",
       "      <td>1829.079956</td>\n",
       "    </tr>\n",
       "    <tr>\n",
       "      <th>25%</th>\n",
       "      <td>2064.030029</td>\n",
       "    </tr>\n",
       "    <tr>\n",
       "      <th>50%</th>\n",
       "      <td>2201.719971</td>\n",
       "    </tr>\n",
       "    <tr>\n",
       "      <th>75%</th>\n",
       "      <td>2650.805054</td>\n",
       "    </tr>\n",
       "    <tr>\n",
       "      <th>max</th>\n",
       "      <td>2945.830078</td>\n",
       "    </tr>\n",
       "  </tbody>\n",
       "</table>\n",
       "</div>"
      ],
      "text/plain": [
       "             Close\n",
       "count  1259.000000\n",
       "mean   2332.778967\n",
       "std     320.174441\n",
       "min    1829.079956\n",
       "25%    2064.030029\n",
       "50%    2201.719971\n",
       "75%    2650.805054\n",
       "max    2945.830078"
      ]
     },
     "execution_count": 6,
     "metadata": {},
     "output_type": "execute_result"
    }
   ],
   "source": [
    "df.describe()"
   ]
  },
  {
   "cell_type": "code",
   "execution_count": 7,
   "id": "2a52cad7",
   "metadata": {},
   "outputs": [
    {
     "data": {
      "image/png": "[encoded data removed]",
      "text/plain": [
       "<Figure size 1440x864 with 1 Axes>"
      ]
     },
     "metadata": {},
     "output_type": "display_data"
    }
   ],
   "source": [
    "df.plot(figsize=(20,12), fontsize=14)\n",
    "plt.title('S&P 500 Closing Price History', fontdict={'fontweight':'bold', 'fontsize':18})\n",
    "plt.xlabel('Date', size=16)\n",
    "plt.ylabel('Price in USD ', size=16)\n",
    "plt.legend(fontsize=15)\n",
    "plt.show()"
   ]
  },
  {
   "cell_type": "code",
   "execution_count": 8,
   "id": "bb5745ca",
   "metadata": {},
   "outputs": [],
   "source": [
    "df.rename(columns={'Close':'Price'}, inplace=True)"
   ]
  },
  {
   "cell_type": "code",
   "execution_count": 9,
   "id": "03122bb9",
   "metadata": {
    "scrolled": true
   },
   "outputs": [
    {
     "data": {
      "text/html": [
       "<div>\n",
       "<style scoped>\n",
       "    .dataframe tbody tr th:only-of-type {\n",
       "        vertical-align: middle;\n",
       "    }\n",
       "\n",
       "    .dataframe tbody tr th {\n",
       "        vertical-align: top;\n",
       "    }\n",
       "\n",
       "    .dataframe thead th {\n",
       "        text-align: right;\n",
       "    }\n",
       "</style>\n",
       "<table border=\"1\" class=\"dataframe\">\n",
       "  <thead>\n",
       "    <tr style=\"text-align: right;\">\n",
       "      <th></th>\n",
       "      <th>Price</th>\n",
       "      <th>Return</th>\n",
       "    </tr>\n",
       "    <tr>\n",
       "      <th>Date</th>\n",
       "      <th></th>\n",
       "      <th></th>\n",
       "    </tr>\n",
       "  </thead>\n",
       "  <tbody>\n",
       "    <tr>\n",
       "      <th>2014-06-03</th>\n",
       "      <td>1924.239990</td>\n",
       "      <td>-0.000379</td>\n",
       "    </tr>\n",
       "    <tr>\n",
       "      <th>2014-06-04</th>\n",
       "      <td>1927.880005</td>\n",
       "      <td>0.001890</td>\n",
       "    </tr>\n",
       "    <tr>\n",
       "      <th>2014-06-05</th>\n",
       "      <td>1940.459961</td>\n",
       "      <td>0.006504</td>\n",
       "    </tr>\n",
       "    <tr>\n",
       "      <th>2014-06-06</th>\n",
       "      <td>1949.439941</td>\n",
       "      <td>0.004617</td>\n",
       "    </tr>\n",
       "    <tr>\n",
       "      <th>2014-06-09</th>\n",
       "      <td>1951.270020</td>\n",
       "      <td>0.000938</td>\n",
       "    </tr>\n",
       "    <tr>\n",
       "      <th>...</th>\n",
       "      <td>...</td>\n",
       "      <td>...</td>\n",
       "    </tr>\n",
       "    <tr>\n",
       "      <th>2019-05-24</th>\n",
       "      <td>2826.060059</td>\n",
       "      <td>0.001353</td>\n",
       "    </tr>\n",
       "    <tr>\n",
       "      <th>2019-05-28</th>\n",
       "      <td>2802.389893</td>\n",
       "      <td>-0.008411</td>\n",
       "    </tr>\n",
       "    <tr>\n",
       "      <th>2019-05-29</th>\n",
       "      <td>2783.020020</td>\n",
       "      <td>-0.006936</td>\n",
       "    </tr>\n",
       "    <tr>\n",
       "      <th>2019-05-30</th>\n",
       "      <td>2788.860107</td>\n",
       "      <td>0.002096</td>\n",
       "    </tr>\n",
       "    <tr>\n",
       "      <th>2019-05-31</th>\n",
       "      <td>2752.060059</td>\n",
       "      <td>-0.013283</td>\n",
       "    </tr>\n",
       "  </tbody>\n",
       "</table>\n",
       "<p>1258 rows × 2 columns</p>\n",
       "</div>"
      ],
      "text/plain": [
       "                  Price    Return\n",
       "Date                             \n",
       "2014-06-03  1924.239990 -0.000379\n",
       "2014-06-04  1927.880005  0.001890\n",
       "2014-06-05  1940.459961  0.006504\n",
       "2014-06-06  1949.439941  0.004617\n",
       "2014-06-09  1951.270020  0.000938\n",
       "...                 ...       ...\n",
       "2019-05-24  2826.060059  0.001353\n",
       "2019-05-28  2802.389893 -0.008411\n",
       "2019-05-29  2783.020020 -0.006936\n",
       "2019-05-30  2788.860107  0.002096\n",
       "2019-05-31  2752.060059 -0.013283\n",
       "\n",
       "[1258 rows x 2 columns]"
      ]
     },
     "execution_count": 9,
     "metadata": {},
     "output_type": "execute_result"
    }
   ],
   "source": [
    "df['Return'] = np.log(df.div(df.shift()))\n",
    "df.dropna(inplace=True)\n",
    "df"
   ]
  },
  {
   "cell_type": "code",
   "execution_count": 10,
   "id": "fdb2fc36",
   "metadata": {},
   "outputs": [
    {
     "data": {
      "image/png": "[encoded data removed]",
      "text/plain": [
       "<Figure size 1584x1008 with 2 Axes>"
      ]
     },
     "metadata": {},
     "output_type": "display_data"
    }
   ],
   "source": [
    "df.plot(figsize=(22,14), secondary_y='Return',  mark_right=True, fontsize=15)\n",
    "plt.title('S&P 500 Closing Price & Return', fontdict={'fontweight':'bold', 'fontsize':18})\n",
    "plt.legend(fontsize=13)\n",
    "plt.show()"
   ]
  },
  {
   "cell_type": "code",
   "execution_count": 11,
   "id": "16048ffe",
   "metadata": {
    "scrolled": true
   },
   "outputs": [
    {
     "data": {
      "text/html": [
       "<div>\n",
       "<style scoped>\n",
       "    .dataframe tbody tr th:only-of-type {\n",
       "        vertical-align: middle;\n",
       "    }\n",
       "\n",
       "    .dataframe tbody tr th {\n",
       "        vertical-align: top;\n",
       "    }\n",
       "\n",
       "    .dataframe thead th {\n",
       "        text-align: right;\n",
       "    }\n",
       "</style>\n",
       "<table border=\"1\" class=\"dataframe\">\n",
       "  <thead>\n",
       "    <tr style=\"text-align: right;\">\n",
       "      <th></th>\n",
       "      <th>Price</th>\n",
       "      <th>Return</th>\n",
       "      <th>Direction</th>\n",
       "    </tr>\n",
       "    <tr>\n",
       "      <th>Date</th>\n",
       "      <th></th>\n",
       "      <th></th>\n",
       "      <th></th>\n",
       "    </tr>\n",
       "  </thead>\n",
       "  <tbody>\n",
       "    <tr>\n",
       "      <th>2014-06-03</th>\n",
       "      <td>1924.239990</td>\n",
       "      <td>-0.000379</td>\n",
       "      <td>-1</td>\n",
       "    </tr>\n",
       "    <tr>\n",
       "      <th>2014-06-04</th>\n",
       "      <td>1927.880005</td>\n",
       "      <td>0.001890</td>\n",
       "      <td>1</td>\n",
       "    </tr>\n",
       "    <tr>\n",
       "      <th>2014-06-05</th>\n",
       "      <td>1940.459961</td>\n",
       "      <td>0.006504</td>\n",
       "      <td>1</td>\n",
       "    </tr>\n",
       "    <tr>\n",
       "      <th>2014-06-06</th>\n",
       "      <td>1949.439941</td>\n",
       "      <td>0.004617</td>\n",
       "      <td>1</td>\n",
       "    </tr>\n",
       "    <tr>\n",
       "      <th>2014-06-09</th>\n",
       "      <td>1951.270020</td>\n",
       "      <td>0.000938</td>\n",
       "      <td>1</td>\n",
       "    </tr>\n",
       "    <tr>\n",
       "      <th>...</th>\n",
       "      <td>...</td>\n",
       "      <td>...</td>\n",
       "      <td>...</td>\n",
       "    </tr>\n",
       "    <tr>\n",
       "      <th>2019-05-24</th>\n",
       "      <td>2826.060059</td>\n",
       "      <td>0.001353</td>\n",
       "      <td>1</td>\n",
       "    </tr>\n",
       "    <tr>\n",
       "      <th>2019-05-28</th>\n",
       "      <td>2802.389893</td>\n",
       "      <td>-0.008411</td>\n",
       "      <td>-1</td>\n",
       "    </tr>\n",
       "    <tr>\n",
       "      <th>2019-05-29</th>\n",
       "      <td>2783.020020</td>\n",
       "      <td>-0.006936</td>\n",
       "      <td>-1</td>\n",
       "    </tr>\n",
       "    <tr>\n",
       "      <th>2019-05-30</th>\n",
       "      <td>2788.860107</td>\n",
       "      <td>0.002096</td>\n",
       "      <td>1</td>\n",
       "    </tr>\n",
       "    <tr>\n",
       "      <th>2019-05-31</th>\n",
       "      <td>2752.060059</td>\n",
       "      <td>-0.013283</td>\n",
       "      <td>-1</td>\n",
       "    </tr>\n",
       "  </tbody>\n",
       "</table>\n",
       "<p>1258 rows × 3 columns</p>\n",
       "</div>"
      ],
      "text/plain": [
       "                  Price    Return  Direction\n",
       "Date                                        \n",
       "2014-06-03  1924.239990 -0.000379         -1\n",
       "2014-06-04  1927.880005  0.001890          1\n",
       "2014-06-05  1940.459961  0.006504          1\n",
       "2014-06-06  1949.439941  0.004617          1\n",
       "2014-06-09  1951.270020  0.000938          1\n",
       "...                 ...       ...        ...\n",
       "2019-05-24  2826.060059  0.001353          1\n",
       "2019-05-28  2802.389893 -0.008411         -1\n",
       "2019-05-29  2783.020020 -0.006936         -1\n",
       "2019-05-30  2788.860107  0.002096          1\n",
       "2019-05-31  2752.060059 -0.013283         -1\n",
       "\n",
       "[1258 rows x 3 columns]"
      ]
     },
     "execution_count": 11,
     "metadata": {},
     "output_type": "execute_result"
    }
   ],
   "source": [
    "df['Direction'] = np.sign(df['Return']).astype('int')\n",
    "df"
   ]
  },
  {
   "cell_type": "code",
   "execution_count": 12,
   "id": "e5c1232c",
   "metadata": {},
   "outputs": [],
   "source": [
    "df = df.loc[df.Direction != 0].copy()"
   ]
  },
  {
   "cell_type": "code",
   "execution_count": 13,
   "id": "a7b8ad76",
   "metadata": {},
   "outputs": [],
   "source": [
    "lags = 39\n",
    "lag_cols = []\n",
    "for lag in range(1, lags+1):\n",
    "    col = 'Lag {}'.format(lag)                 \n",
    "    df[col] = df['Return'].shift(lag)\n",
    "    lag_cols.append(col)"
   ]
  },
  {
   "cell_type": "code",
   "execution_count": 14,
   "id": "81329668",
   "metadata": {},
   "outputs": [
    {
     "data": {
      "text/html": [
       "<div>\n",
       "<style scoped>\n",
       "    .dataframe tbody tr th:only-of-type {\n",
       "        vertical-align: middle;\n",
       "    }\n",
       "\n",
       "    .dataframe tbody tr th {\n",
       "        vertical-align: top;\n",
       "    }\n",
       "\n",
       "    .dataframe thead th {\n",
       "        text-align: right;\n",
       "    }\n",
       "</style>\n",
       "<table border=\"1\" class=\"dataframe\">\n",
       "  <thead>\n",
       "    <tr style=\"text-align: right;\">\n",
       "      <th></th>\n",
       "      <th>Price</th>\n",
       "      <th>Return</th>\n",
       "      <th>Direction</th>\n",
       "      <th>Lag 1</th>\n",
       "      <th>Lag 2</th>\n",
       "      <th>Lag 3</th>\n",
       "      <th>Lag 4</th>\n",
       "      <th>Lag 5</th>\n",
       "      <th>Lag 6</th>\n",
       "      <th>Lag 7</th>\n",
       "      <th>...</th>\n",
       "      <th>Lag 30</th>\n",
       "      <th>Lag 31</th>\n",
       "      <th>Lag 32</th>\n",
       "      <th>Lag 33</th>\n",
       "      <th>Lag 34</th>\n",
       "      <th>Lag 35</th>\n",
       "      <th>Lag 36</th>\n",
       "      <th>Lag 37</th>\n",
       "      <th>Lag 38</th>\n",
       "      <th>Lag 39</th>\n",
       "    </tr>\n",
       "    <tr>\n",
       "      <th>Date</th>\n",
       "      <th></th>\n",
       "      <th></th>\n",
       "      <th></th>\n",
       "      <th></th>\n",
       "      <th></th>\n",
       "      <th></th>\n",
       "      <th></th>\n",
       "      <th></th>\n",
       "      <th></th>\n",
       "      <th></th>\n",
       "      <th></th>\n",
       "      <th></th>\n",
       "      <th></th>\n",
       "      <th></th>\n",
       "      <th></th>\n",
       "      <th></th>\n",
       "      <th></th>\n",
       "      <th></th>\n",
       "      <th></th>\n",
       "      <th></th>\n",
       "      <th></th>\n",
       "    </tr>\n",
       "  </thead>\n",
       "  <tbody>\n",
       "    <tr>\n",
       "      <th>2014-07-29</th>\n",
       "      <td>1969.949951</td>\n",
       "      <td>-0.004538</td>\n",
       "      <td>-1</td>\n",
       "      <td>0.000288</td>\n",
       "      <td>-0.004861</td>\n",
       "      <td>0.000488</td>\n",
       "      <td>0.001753</td>\n",
       "      <td>0.005004</td>\n",
       "      <td>-0.002323</td>\n",
       "      <td>0.010213</td>\n",
       "      <td>...</td>\n",
       "      <td>0.000836</td>\n",
       "      <td>0.003130</td>\n",
       "      <td>-0.007114</td>\n",
       "      <td>-0.003543</td>\n",
       "      <td>-0.000246</td>\n",
       "      <td>0.000938</td>\n",
       "      <td>0.004617</td>\n",
       "      <td>0.006504</td>\n",
       "      <td>0.001890</td>\n",
       "      <td>-0.000379</td>\n",
       "    </tr>\n",
       "    <tr>\n",
       "      <th>2014-07-30</th>\n",
       "      <td>1970.069946</td>\n",
       "      <td>0.000061</td>\n",
       "      <td>1</td>\n",
       "      <td>-0.004538</td>\n",
       "      <td>0.000288</td>\n",
       "      <td>-0.004861</td>\n",
       "      <td>0.000488</td>\n",
       "      <td>0.001753</td>\n",
       "      <td>0.005004</td>\n",
       "      <td>-0.002323</td>\n",
       "      <td>...</td>\n",
       "      <td>0.002170</td>\n",
       "      <td>0.000836</td>\n",
       "      <td>0.003130</td>\n",
       "      <td>-0.007114</td>\n",
       "      <td>-0.003543</td>\n",
       "      <td>-0.000246</td>\n",
       "      <td>0.000938</td>\n",
       "      <td>0.004617</td>\n",
       "      <td>0.006504</td>\n",
       "      <td>0.001890</td>\n",
       "    </tr>\n",
       "    <tr>\n",
       "      <th>2014-07-31</th>\n",
       "      <td>1930.670044</td>\n",
       "      <td>-0.020202</td>\n",
       "      <td>-1</td>\n",
       "      <td>0.000061</td>\n",
       "      <td>-0.004538</td>\n",
       "      <td>0.000288</td>\n",
       "      <td>-0.004861</td>\n",
       "      <td>0.000488</td>\n",
       "      <td>0.001753</td>\n",
       "      <td>0.005004</td>\n",
       "      <td>...</td>\n",
       "      <td>0.007689</td>\n",
       "      <td>0.002170</td>\n",
       "      <td>0.000836</td>\n",
       "      <td>0.003130</td>\n",
       "      <td>-0.007114</td>\n",
       "      <td>-0.003543</td>\n",
       "      <td>-0.000246</td>\n",
       "      <td>0.000938</td>\n",
       "      <td>0.004617</td>\n",
       "      <td>0.006504</td>\n",
       "    </tr>\n",
       "    <tr>\n",
       "      <th>2014-08-01</th>\n",
       "      <td>1925.150024</td>\n",
       "      <td>-0.002863</td>\n",
       "      <td>-1</td>\n",
       "      <td>-0.020202</td>\n",
       "      <td>0.000061</td>\n",
       "      <td>-0.004538</td>\n",
       "      <td>0.000288</td>\n",
       "      <td>-0.004861</td>\n",
       "      <td>0.000488</td>\n",
       "      <td>0.001753</td>\n",
       "      <td>...</td>\n",
       "      <td>0.001277</td>\n",
       "      <td>0.007689</td>\n",
       "      <td>0.002170</td>\n",
       "      <td>0.000836</td>\n",
       "      <td>0.003130</td>\n",
       "      <td>-0.007114</td>\n",
       "      <td>-0.003543</td>\n",
       "      <td>-0.000246</td>\n",
       "      <td>0.000938</td>\n",
       "      <td>0.004617</td>\n",
       "    </tr>\n",
       "    <tr>\n",
       "      <th>2014-08-04</th>\n",
       "      <td>1938.989990</td>\n",
       "      <td>0.007163</td>\n",
       "      <td>1</td>\n",
       "      <td>-0.002863</td>\n",
       "      <td>-0.020202</td>\n",
       "      <td>0.000061</td>\n",
       "      <td>-0.004538</td>\n",
       "      <td>0.000288</td>\n",
       "      <td>-0.004861</td>\n",
       "      <td>0.000488</td>\n",
       "      <td>...</td>\n",
       "      <td>0.001729</td>\n",
       "      <td>0.001277</td>\n",
       "      <td>0.007689</td>\n",
       "      <td>0.002170</td>\n",
       "      <td>0.000836</td>\n",
       "      <td>0.003130</td>\n",
       "      <td>-0.007114</td>\n",
       "      <td>-0.003543</td>\n",
       "      <td>-0.000246</td>\n",
       "      <td>0.000938</td>\n",
       "    </tr>\n",
       "    <tr>\n",
       "      <th>...</th>\n",
       "      <td>...</td>\n",
       "      <td>...</td>\n",
       "      <td>...</td>\n",
       "      <td>...</td>\n",
       "      <td>...</td>\n",
       "      <td>...</td>\n",
       "      <td>...</td>\n",
       "      <td>...</td>\n",
       "      <td>...</td>\n",
       "      <td>...</td>\n",
       "      <td>...</td>\n",
       "      <td>...</td>\n",
       "      <td>...</td>\n",
       "      <td>...</td>\n",
       "      <td>...</td>\n",
       "      <td>...</td>\n",
       "      <td>...</td>\n",
       "      <td>...</td>\n",
       "      <td>...</td>\n",
       "      <td>...</td>\n",
       "      <td>...</td>\n",
       "    </tr>\n",
       "    <tr>\n",
       "      <th>2019-05-24</th>\n",
       "      <td>2826.060059</td>\n",
       "      <td>0.001353</td>\n",
       "      <td>1</td>\n",
       "      <td>-0.011986</td>\n",
       "      <td>-0.002828</td>\n",
       "      <td>0.008460</td>\n",
       "      <td>-0.006772</td>\n",
       "      <td>-0.005854</td>\n",
       "      <td>0.008856</td>\n",
       "      <td>0.005822</td>\n",
       "      <td>...</td>\n",
       "      <td>0.000038</td>\n",
       "      <td>0.003472</td>\n",
       "      <td>-0.006086</td>\n",
       "      <td>0.001047</td>\n",
       "      <td>0.004626</td>\n",
       "      <td>0.002082</td>\n",
       "      <td>0.002146</td>\n",
       "      <td>0.000017</td>\n",
       "      <td>0.011502</td>\n",
       "      <td>0.006712</td>\n",
       "    </tr>\n",
       "    <tr>\n",
       "      <th>2019-05-28</th>\n",
       "      <td>2802.389893</td>\n",
       "      <td>-0.008411</td>\n",
       "      <td>-1</td>\n",
       "      <td>0.001353</td>\n",
       "      <td>-0.011986</td>\n",
       "      <td>-0.002828</td>\n",
       "      <td>0.008460</td>\n",
       "      <td>-0.006772</td>\n",
       "      <td>-0.005854</td>\n",
       "      <td>0.008856</td>\n",
       "      <td>...</td>\n",
       "      <td>0.006588</td>\n",
       "      <td>0.000038</td>\n",
       "      <td>0.003472</td>\n",
       "      <td>-0.006086</td>\n",
       "      <td>0.001047</td>\n",
       "      <td>0.004626</td>\n",
       "      <td>0.002082</td>\n",
       "      <td>0.002146</td>\n",
       "      <td>0.000017</td>\n",
       "      <td>0.011502</td>\n",
       "    </tr>\n",
       "    <tr>\n",
       "      <th>2019-05-29</th>\n",
       "      <td>2783.020020</td>\n",
       "      <td>-0.006936</td>\n",
       "      <td>-1</td>\n",
       "      <td>-0.008411</td>\n",
       "      <td>0.001353</td>\n",
       "      <td>-0.011986</td>\n",
       "      <td>-0.002828</td>\n",
       "      <td>0.008460</td>\n",
       "      <td>-0.006772</td>\n",
       "      <td>-0.005854</td>\n",
       "      <td>...</td>\n",
       "      <td>-0.000630</td>\n",
       "      <td>0.006588</td>\n",
       "      <td>0.000038</td>\n",
       "      <td>0.003472</td>\n",
       "      <td>-0.006086</td>\n",
       "      <td>0.001047</td>\n",
       "      <td>0.004626</td>\n",
       "      <td>0.002082</td>\n",
       "      <td>0.002146</td>\n",
       "      <td>0.000017</td>\n",
       "    </tr>\n",
       "    <tr>\n",
       "      <th>2019-05-30</th>\n",
       "      <td>2788.860107</td>\n",
       "      <td>0.002096</td>\n",
       "      <td>1</td>\n",
       "      <td>-0.006936</td>\n",
       "      <td>-0.008411</td>\n",
       "      <td>0.001353</td>\n",
       "      <td>-0.011986</td>\n",
       "      <td>-0.002828</td>\n",
       "      <td>0.008460</td>\n",
       "      <td>-0.006772</td>\n",
       "      <td>...</td>\n",
       "      <td>0.000509</td>\n",
       "      <td>-0.000630</td>\n",
       "      <td>0.006588</td>\n",
       "      <td>0.000038</td>\n",
       "      <td>0.003472</td>\n",
       "      <td>-0.006086</td>\n",
       "      <td>0.001047</td>\n",
       "      <td>0.004626</td>\n",
       "      <td>0.002082</td>\n",
       "      <td>0.002146</td>\n",
       "    </tr>\n",
       "    <tr>\n",
       "      <th>2019-05-31</th>\n",
       "      <td>2752.060059</td>\n",
       "      <td>-0.013283</td>\n",
       "      <td>-1</td>\n",
       "      <td>0.002096</td>\n",
       "      <td>-0.006936</td>\n",
       "      <td>-0.008411</td>\n",
       "      <td>0.001353</td>\n",
       "      <td>-0.011986</td>\n",
       "      <td>-0.002828</td>\n",
       "      <td>0.008460</td>\n",
       "      <td>...</td>\n",
       "      <td>-0.002276</td>\n",
       "      <td>0.000509</td>\n",
       "      <td>-0.000630</td>\n",
       "      <td>0.006588</td>\n",
       "      <td>0.000038</td>\n",
       "      <td>0.003472</td>\n",
       "      <td>-0.006086</td>\n",
       "      <td>0.001047</td>\n",
       "      <td>0.004626</td>\n",
       "      <td>0.002082</td>\n",
       "    </tr>\n",
       "  </tbody>\n",
       "</table>\n",
       "<p>1218 rows × 42 columns</p>\n",
       "</div>"
      ],
      "text/plain": [
       "                  Price    Return  Direction     Lag 1     Lag 2     Lag 3  \\\n",
       "Date                                                                         \n",
       "2014-07-29  1969.949951 -0.004538         -1  0.000288 -0.004861  0.000488   \n",
       "2014-07-30  1970.069946  0.000061          1 -0.004538  0.000288 -0.004861   \n",
       "2014-07-31  1930.670044 -0.020202         -1  0.000061 -0.004538  0.000288   \n",
       "2014-08-01  1925.150024 -0.002863         -1 -0.020202  0.000061 -0.004538   \n",
       "2014-08-04  1938.989990  0.007163          1 -0.002863 -0.020202  0.000061   \n",
       "...                 ...       ...        ...       ...       ...       ...   \n",
       "2019-05-24  2826.060059  0.001353          1 -0.011986 -0.002828  0.008460   \n",
       "2019-05-28  2802.389893 -0.008411         -1  0.001353 -0.011986 -0.002828   \n",
       "2019-05-29  2783.020020 -0.006936         -1 -0.008411  0.001353 -0.011986   \n",
       "2019-05-30  2788.860107  0.002096          1 -0.006936 -0.008411  0.001353   \n",
       "2019-05-31  2752.060059 -0.013283         -1  0.002096 -0.006936 -0.008411   \n",
       "\n",
       "               Lag 4     Lag 5     Lag 6     Lag 7  ...    Lag 30    Lag 31  \\\n",
       "Date                                                ...                       \n",
       "2014-07-29  0.001753  0.005004 -0.002323  0.010213  ...  0.000836  0.003130   \n",
       "2014-07-30  0.000488  0.001753  0.005004 -0.002323  ...  0.002170  0.000836   \n",
       "2014-07-31 -0.004861  0.000488  0.001753  0.005004  ...  0.007689  0.002170   \n",
       "2014-08-01  0.000288 -0.004861  0.000488  0.001753  ...  0.001277  0.007689   \n",
       "2014-08-04 -0.004538  0.000288 -0.004861  0.000488  ...  0.001729  0.001277   \n",
       "...              ...       ...       ...       ...  ...       ...       ...   \n",
       "2019-05-24 -0.006772 -0.005854  0.008856  0.005822  ...  0.000038  0.003472   \n",
       "2019-05-28  0.008460 -0.006772 -0.005854  0.008856  ...  0.006588  0.000038   \n",
       "2019-05-29 -0.002828  0.008460 -0.006772 -0.005854  ... -0.000630  0.006588   \n",
       "2019-05-30 -0.011986 -0.002828  0.008460 -0.006772  ...  0.000509 -0.000630   \n",
       "2019-05-31  0.001353 -0.011986 -0.002828  0.008460  ... -0.002276  0.000509   \n",
       "\n",
       "              Lag 32    Lag 33    Lag 34    Lag 35    Lag 36    Lag 37  \\\n",
       "Date                                                                     \n",
       "2014-07-29 -0.007114 -0.003543 -0.000246  0.000938  0.004617  0.006504   \n",
       "2014-07-30  0.003130 -0.007114 -0.003543 -0.000246  0.000938  0.004617   \n",
       "2014-07-31  0.000836  0.003130 -0.007114 -0.003543 -0.000246  0.000938   \n",
       "2014-08-01  0.002170  0.000836  0.003130 -0.007114 -0.003543 -0.000246   \n",
       "2014-08-04  0.007689  0.002170  0.000836  0.003130 -0.007114 -0.003543   \n",
       "...              ...       ...       ...       ...       ...       ...   \n",
       "2019-05-24 -0.006086  0.001047  0.004626  0.002082  0.002146  0.000017   \n",
       "2019-05-28  0.003472 -0.006086  0.001047  0.004626  0.002082  0.002146   \n",
       "2019-05-29  0.000038  0.003472 -0.006086  0.001047  0.004626  0.002082   \n",
       "2019-05-30  0.006588  0.000038  0.003472 -0.006086  0.001047  0.004626   \n",
       "2019-05-31 -0.000630  0.006588  0.000038  0.003472 -0.006086  0.001047   \n",
       "\n",
       "              Lag 38    Lag 39  \n",
       "Date                            \n",
       "2014-07-29  0.001890 -0.000379  \n",
       "2014-07-30  0.006504  0.001890  \n",
       "2014-07-31  0.004617  0.006504  \n",
       "2014-08-01  0.000938  0.004617  \n",
       "2014-08-04 -0.000246  0.000938  \n",
       "...              ...       ...  \n",
       "2019-05-24  0.011502  0.006712  \n",
       "2019-05-28  0.000017  0.011502  \n",
       "2019-05-29  0.002146  0.000017  \n",
       "2019-05-30  0.002082  0.002146  \n",
       "2019-05-31  0.004626  0.002082  \n",
       "\n",
       "[1218 rows x 42 columns]"
      ]
     },
     "execution_count": 14,
     "metadata": {},
     "output_type": "execute_result"
    }
   ],
   "source": [
    "df.dropna(inplace=True)\n",
    "df"
   ]
  },
  {
   "cell_type": "code",
   "execution_count": 15,
   "id": "b7f7306e",
   "metadata": {},
   "outputs": [],
   "source": [
    "df.to_csv('df.csv')"
   ]
  },
  {
   "cell_type": "code",
   "execution_count": 16,
   "id": "93513be3",
   "metadata": {},
   "outputs": [],
   "source": [
    "df.loc[:'2018'].to_csv('train_set.csv')\n",
    "df.loc['2019':].to_csv('test_set.csv')"
   ]
  },
  {
   "cell_type": "code",
   "execution_count": 17,
   "id": "09634008",
   "metadata": {},
   "outputs": [
    {
     "data": {
      "text/html": [
       "<div>\n",
       "<style scoped>\n",
       "    .dataframe tbody tr th:only-of-type {\n",
       "        vertical-align: middle;\n",
       "    }\n",
       "\n",
       "    .dataframe tbody tr th {\n",
       "        vertical-align: top;\n",
       "    }\n",
       "\n",
       "    .dataframe thead th {\n",
       "        text-align: right;\n",
       "    }\n",
       "</style>\n",
       "<table border=\"1\" class=\"dataframe\">\n",
       "  <thead>\n",
       "    <tr style=\"text-align: right;\">\n",
       "      <th></th>\n",
       "      <th>Price</th>\n",
       "      <th>Return</th>\n",
       "      <th>Direction</th>\n",
       "      <th>Lag 1</th>\n",
       "      <th>Lag 2</th>\n",
       "      <th>Lag 3</th>\n",
       "      <th>Lag 4</th>\n",
       "      <th>Lag 5</th>\n",
       "      <th>Lag 6</th>\n",
       "      <th>Lag 7</th>\n",
       "      <th>...</th>\n",
       "      <th>Lag 30</th>\n",
       "      <th>Lag 31</th>\n",
       "      <th>Lag 32</th>\n",
       "      <th>Lag 33</th>\n",
       "      <th>Lag 34</th>\n",
       "      <th>Lag 35</th>\n",
       "      <th>Lag 36</th>\n",
       "      <th>Lag 37</th>\n",
       "      <th>Lag 38</th>\n",
       "      <th>Lag 39</th>\n",
       "    </tr>\n",
       "    <tr>\n",
       "      <th>Date</th>\n",
       "      <th></th>\n",
       "      <th></th>\n",
       "      <th></th>\n",
       "      <th></th>\n",
       "      <th></th>\n",
       "      <th></th>\n",
       "      <th></th>\n",
       "      <th></th>\n",
       "      <th></th>\n",
       "      <th></th>\n",
       "      <th></th>\n",
       "      <th></th>\n",
       "      <th></th>\n",
       "      <th></th>\n",
       "      <th></th>\n",
       "      <th></th>\n",
       "      <th></th>\n",
       "      <th></th>\n",
       "      <th></th>\n",
       "      <th></th>\n",
       "      <th></th>\n",
       "    </tr>\n",
       "  </thead>\n",
       "  <tbody>\n",
       "    <tr>\n",
       "      <th>2014-07-29</th>\n",
       "      <td>1969.949951</td>\n",
       "      <td>-0.004538</td>\n",
       "      <td>-1</td>\n",
       "      <td>0.000288</td>\n",
       "      <td>-0.004861</td>\n",
       "      <td>0.000488</td>\n",
       "      <td>0.001753</td>\n",
       "      <td>0.005004</td>\n",
       "      <td>-0.002323</td>\n",
       "      <td>0.010213</td>\n",
       "      <td>...</td>\n",
       "      <td>0.000836</td>\n",
       "      <td>0.003130</td>\n",
       "      <td>-0.007114</td>\n",
       "      <td>-0.003543</td>\n",
       "      <td>-0.000246</td>\n",
       "      <td>0.000938</td>\n",
       "      <td>0.004617</td>\n",
       "      <td>0.006504</td>\n",
       "      <td>0.001890</td>\n",
       "      <td>-0.000379</td>\n",
       "    </tr>\n",
       "    <tr>\n",
       "      <th>2014-07-30</th>\n",
       "      <td>1970.069946</td>\n",
       "      <td>0.000061</td>\n",
       "      <td>1</td>\n",
       "      <td>-0.004538</td>\n",
       "      <td>0.000288</td>\n",
       "      <td>-0.004861</td>\n",
       "      <td>0.000488</td>\n",
       "      <td>0.001753</td>\n",
       "      <td>0.005004</td>\n",
       "      <td>-0.002323</td>\n",
       "      <td>...</td>\n",
       "      <td>0.002170</td>\n",
       "      <td>0.000836</td>\n",
       "      <td>0.003130</td>\n",
       "      <td>-0.007114</td>\n",
       "      <td>-0.003543</td>\n",
       "      <td>-0.000246</td>\n",
       "      <td>0.000938</td>\n",
       "      <td>0.004617</td>\n",
       "      <td>0.006504</td>\n",
       "      <td>0.001890</td>\n",
       "    </tr>\n",
       "    <tr>\n",
       "      <th>2014-07-31</th>\n",
       "      <td>1930.670044</td>\n",
       "      <td>-0.020202</td>\n",
       "      <td>-1</td>\n",
       "      <td>0.000061</td>\n",
       "      <td>-0.004538</td>\n",
       "      <td>0.000288</td>\n",
       "      <td>-0.004861</td>\n",
       "      <td>0.000488</td>\n",
       "      <td>0.001753</td>\n",
       "      <td>0.005004</td>\n",
       "      <td>...</td>\n",
       "      <td>0.007689</td>\n",
       "      <td>0.002170</td>\n",
       "      <td>0.000836</td>\n",
       "      <td>0.003130</td>\n",
       "      <td>-0.007114</td>\n",
       "      <td>-0.003543</td>\n",
       "      <td>-0.000246</td>\n",
       "      <td>0.000938</td>\n",
       "      <td>0.004617</td>\n",
       "      <td>0.006504</td>\n",
       "    </tr>\n",
       "    <tr>\n",
       "      <th>2014-08-01</th>\n",
       "      <td>1925.150024</td>\n",
       "      <td>-0.002863</td>\n",
       "      <td>-1</td>\n",
       "      <td>-0.020202</td>\n",
       "      <td>0.000061</td>\n",
       "      <td>-0.004538</td>\n",
       "      <td>0.000288</td>\n",
       "      <td>-0.004861</td>\n",
       "      <td>0.000488</td>\n",
       "      <td>0.001753</td>\n",
       "      <td>...</td>\n",
       "      <td>0.001277</td>\n",
       "      <td>0.007689</td>\n",
       "      <td>0.002170</td>\n",
       "      <td>0.000836</td>\n",
       "      <td>0.003130</td>\n",
       "      <td>-0.007114</td>\n",
       "      <td>-0.003543</td>\n",
       "      <td>-0.000246</td>\n",
       "      <td>0.000938</td>\n",
       "      <td>0.004617</td>\n",
       "    </tr>\n",
       "    <tr>\n",
       "      <th>2014-08-04</th>\n",
       "      <td>1938.989990</td>\n",
       "      <td>0.007163</td>\n",
       "      <td>1</td>\n",
       "      <td>-0.002863</td>\n",
       "      <td>-0.020202</td>\n",
       "      <td>0.000061</td>\n",
       "      <td>-0.004538</td>\n",
       "      <td>0.000288</td>\n",
       "      <td>-0.004861</td>\n",
       "      <td>0.000488</td>\n",
       "      <td>...</td>\n",
       "      <td>0.001729</td>\n",
       "      <td>0.001277</td>\n",
       "      <td>0.007689</td>\n",
       "      <td>0.002170</td>\n",
       "      <td>0.000836</td>\n",
       "      <td>0.003130</td>\n",
       "      <td>-0.007114</td>\n",
       "      <td>-0.003543</td>\n",
       "      <td>-0.000246</td>\n",
       "      <td>0.000938</td>\n",
       "    </tr>\n",
       "    <tr>\n",
       "      <th>...</th>\n",
       "      <td>...</td>\n",
       "      <td>...</td>\n",
       "      <td>...</td>\n",
       "      <td>...</td>\n",
       "      <td>...</td>\n",
       "      <td>...</td>\n",
       "      <td>...</td>\n",
       "      <td>...</td>\n",
       "      <td>...</td>\n",
       "      <td>...</td>\n",
       "      <td>...</td>\n",
       "      <td>...</td>\n",
       "      <td>...</td>\n",
       "      <td>...</td>\n",
       "      <td>...</td>\n",
       "      <td>...</td>\n",
       "      <td>...</td>\n",
       "      <td>...</td>\n",
       "      <td>...</td>\n",
       "      <td>...</td>\n",
       "      <td>...</td>\n",
       "    </tr>\n",
       "    <tr>\n",
       "      <th>2018-12-24</th>\n",
       "      <td>2351.100098</td>\n",
       "      <td>-0.027487</td>\n",
       "      <td>-1</td>\n",
       "      <td>-0.020803</td>\n",
       "      <td>-0.015898</td>\n",
       "      <td>-0.015515</td>\n",
       "      <td>0.000086</td>\n",
       "      <td>-0.020992</td>\n",
       "      <td>-0.019271</td>\n",
       "      <td>-0.000200</td>\n",
       "      <td>...</td>\n",
       "      <td>-0.002512</td>\n",
       "      <td>0.020987</td>\n",
       "      <td>0.006240</td>\n",
       "      <td>0.005585</td>\n",
       "      <td>-0.006337</td>\n",
       "      <td>0.010502</td>\n",
       "      <td>0.010793</td>\n",
       "      <td>0.015545</td>\n",
       "      <td>-0.006581</td>\n",
       "      <td>-0.017479</td>\n",
       "    </tr>\n",
       "    <tr>\n",
       "      <th>2018-12-26</th>\n",
       "      <td>2467.699951</td>\n",
       "      <td>0.048403</td>\n",
       "      <td>1</td>\n",
       "      <td>-0.027487</td>\n",
       "      <td>-0.020803</td>\n",
       "      <td>-0.015898</td>\n",
       "      <td>-0.015515</td>\n",
       "      <td>0.000086</td>\n",
       "      <td>-0.020992</td>\n",
       "      <td>-0.019271</td>\n",
       "      <td>...</td>\n",
       "      <td>-0.009242</td>\n",
       "      <td>-0.002512</td>\n",
       "      <td>0.020987</td>\n",
       "      <td>0.006240</td>\n",
       "      <td>0.005585</td>\n",
       "      <td>-0.006337</td>\n",
       "      <td>0.010502</td>\n",
       "      <td>0.010793</td>\n",
       "      <td>0.015545</td>\n",
       "      <td>-0.006581</td>\n",
       "    </tr>\n",
       "    <tr>\n",
       "      <th>2018-12-27</th>\n",
       "      <td>2488.830078</td>\n",
       "      <td>0.008526</td>\n",
       "      <td>1</td>\n",
       "      <td>0.048403</td>\n",
       "      <td>-0.027487</td>\n",
       "      <td>-0.020803</td>\n",
       "      <td>-0.015898</td>\n",
       "      <td>-0.015515</td>\n",
       "      <td>0.000086</td>\n",
       "      <td>-0.020992</td>\n",
       "      <td>...</td>\n",
       "      <td>-0.019898</td>\n",
       "      <td>-0.009242</td>\n",
       "      <td>-0.002512</td>\n",
       "      <td>0.020987</td>\n",
       "      <td>0.006240</td>\n",
       "      <td>0.005585</td>\n",
       "      <td>-0.006337</td>\n",
       "      <td>0.010502</td>\n",
       "      <td>0.010793</td>\n",
       "      <td>0.015545</td>\n",
       "    </tr>\n",
       "    <tr>\n",
       "      <th>2018-12-28</th>\n",
       "      <td>2485.739990</td>\n",
       "      <td>-0.001242</td>\n",
       "      <td>-1</td>\n",
       "      <td>0.008526</td>\n",
       "      <td>0.048403</td>\n",
       "      <td>-0.027487</td>\n",
       "      <td>-0.020803</td>\n",
       "      <td>-0.015898</td>\n",
       "      <td>-0.015515</td>\n",
       "      <td>0.000086</td>\n",
       "      <td>...</td>\n",
       "      <td>-0.001483</td>\n",
       "      <td>-0.019898</td>\n",
       "      <td>-0.009242</td>\n",
       "      <td>-0.002512</td>\n",
       "      <td>0.020987</td>\n",
       "      <td>0.006240</td>\n",
       "      <td>0.005585</td>\n",
       "      <td>-0.006337</td>\n",
       "      <td>0.010502</td>\n",
       "      <td>0.010793</td>\n",
       "    </tr>\n",
       "    <tr>\n",
       "      <th>2018-12-31</th>\n",
       "      <td>2506.850098</td>\n",
       "      <td>0.008457</td>\n",
       "      <td>1</td>\n",
       "      <td>-0.001242</td>\n",
       "      <td>0.008526</td>\n",
       "      <td>0.048403</td>\n",
       "      <td>-0.027487</td>\n",
       "      <td>-0.020803</td>\n",
       "      <td>-0.015898</td>\n",
       "      <td>-0.015515</td>\n",
       "      <td>...</td>\n",
       "      <td>-0.007596</td>\n",
       "      <td>-0.001483</td>\n",
       "      <td>-0.019898</td>\n",
       "      <td>-0.009242</td>\n",
       "      <td>-0.002512</td>\n",
       "      <td>0.020987</td>\n",
       "      <td>0.006240</td>\n",
       "      <td>0.005585</td>\n",
       "      <td>-0.006337</td>\n",
       "      <td>0.010502</td>\n",
       "    </tr>\n",
       "  </tbody>\n",
       "</table>\n",
       "<p>1114 rows × 42 columns</p>\n",
       "</div>"
      ],
      "text/plain": [
       "                  Price    Return  Direction     Lag 1     Lag 2     Lag 3  \\\n",
       "Date                                                                         \n",
       "2014-07-29  1969.949951 -0.004538         -1  0.000288 -0.004861  0.000488   \n",
       "2014-07-30  1970.069946  0.000061          1 -0.004538  0.000288 -0.004861   \n",
       "2014-07-31  1930.670044 -0.020202         -1  0.000061 -0.004538  0.000288   \n",
       "2014-08-01  1925.150024 -0.002863         -1 -0.020202  0.000061 -0.004538   \n",
       "2014-08-04  1938.989990  0.007163          1 -0.002863 -0.020202  0.000061   \n",
       "...                 ...       ...        ...       ...       ...       ...   \n",
       "2018-12-24  2351.100098 -0.027487         -1 -0.020803 -0.015898 -0.015515   \n",
       "2018-12-26  2467.699951  0.048403          1 -0.027487 -0.020803 -0.015898   \n",
       "2018-12-27  2488.830078  0.008526          1  0.048403 -0.027487 -0.020803   \n",
       "2018-12-28  2485.739990 -0.001242         -1  0.008526  0.048403 -0.027487   \n",
       "2018-12-31  2506.850098  0.008457          1 -0.001242  0.008526  0.048403   \n",
       "\n",
       "               Lag 4     Lag 5     Lag 6     Lag 7  ...    Lag 30    Lag 31  \\\n",
       "Date                                                ...                       \n",
       "2014-07-29  0.001753  0.005004 -0.002323  0.010213  ...  0.000836  0.003130   \n",
       "2014-07-30  0.000488  0.001753  0.005004 -0.002323  ...  0.002170  0.000836   \n",
       "2014-07-31 -0.004861  0.000488  0.001753  0.005004  ...  0.007689  0.002170   \n",
       "2014-08-01  0.000288 -0.004861  0.000488  0.001753  ...  0.001277  0.007689   \n",
       "2014-08-04 -0.004538  0.000288 -0.004861  0.000488  ...  0.001729  0.001277   \n",
       "...              ...       ...       ...       ...  ...       ...       ...   \n",
       "2018-12-24  0.000086 -0.020992 -0.019271 -0.000200  ... -0.002512  0.020987   \n",
       "2018-12-26 -0.015515  0.000086 -0.020992 -0.019271  ... -0.009242 -0.002512   \n",
       "2018-12-27 -0.015898 -0.015515  0.000086 -0.020992  ... -0.019898 -0.009242   \n",
       "2018-12-28 -0.020803 -0.015898 -0.015515  0.000086  ... -0.001483 -0.019898   \n",
       "2018-12-31 -0.027487 -0.020803 -0.015898 -0.015515  ... -0.007596 -0.001483   \n",
       "\n",
       "              Lag 32    Lag 33    Lag 34    Lag 35    Lag 36    Lag 37  \\\n",
       "Date                                                                     \n",
       "2014-07-29 -0.007114 -0.003543 -0.000246  0.000938  0.004617  0.006504   \n",
       "2014-07-30  0.003130 -0.007114 -0.003543 -0.000246  0.000938  0.004617   \n",
       "2014-07-31  0.000836  0.003130 -0.007114 -0.003543 -0.000246  0.000938   \n",
       "2014-08-01  0.002170  0.000836  0.003130 -0.007114 -0.003543 -0.000246   \n",
       "2014-08-04  0.007689  0.002170  0.000836  0.003130 -0.007114 -0.003543   \n",
       "...              ...       ...       ...       ...       ...       ...   \n",
       "2018-12-24  0.006240  0.005585 -0.006337  0.010502  0.010793  0.015545   \n",
       "2018-12-26  0.020987  0.006240  0.005585 -0.006337  0.010502  0.010793   \n",
       "2018-12-27 -0.002512  0.020987  0.006240  0.005585 -0.006337  0.010502   \n",
       "2018-12-28 -0.009242 -0.002512  0.020987  0.006240  0.005585 -0.006337   \n",
       "2018-12-31 -0.019898 -0.009242 -0.002512  0.020987  0.006240  0.005585   \n",
       "\n",
       "              Lag 38    Lag 39  \n",
       "Date                            \n",
       "2014-07-29  0.001890 -0.000379  \n",
       "2014-07-30  0.006504  0.001890  \n",
       "2014-07-31  0.004617  0.006504  \n",
       "2014-08-01  0.000938  0.004617  \n",
       "2014-08-04 -0.000246  0.000938  \n",
       "...              ...       ...  \n",
       "2018-12-24 -0.006581 -0.017479  \n",
       "2018-12-26  0.015545 -0.006581  \n",
       "2018-12-27  0.010793  0.015545  \n",
       "2018-12-28  0.010502  0.010793  \n",
       "2018-12-31 -0.006337  0.010502  \n",
       "\n",
       "[1114 rows x 42 columns]"
      ]
     },
     "execution_count": 17,
     "metadata": {},
     "output_type": "execute_result"
    }
   ],
   "source": [
    "df_train = pd.read_csv('train_set.csv', index_col='Date', parse_dates=['Date'])\n",
    "df_train"
   ]
  },
  {
   "cell_type": "code",
   "execution_count": 18,
   "id": "c5f137bd",
   "metadata": {},
   "outputs": [],
   "source": [
    "X_train = df_train[lag_cols]\n",
    "Y_train = df_train['Direction']"
   ]
  },
  {
   "cell_type": "code",
   "execution_count": 19,
   "id": "41f372d1",
   "metadata": {},
   "outputs": [
    {
     "data": {
      "text/html": [
       "<div>\n",
       "<style scoped>\n",
       "    .dataframe tbody tr th:only-of-type {\n",
       "        vertical-align: middle;\n",
       "    }\n",
       "\n",
       "    .dataframe tbody tr th {\n",
       "        vertical-align: top;\n",
       "    }\n",
       "\n",
       "    .dataframe thead th {\n",
       "        text-align: right;\n",
       "    }\n",
       "</style>\n",
       "<table border=\"1\" class=\"dataframe\">\n",
       "  <thead>\n",
       "    <tr style=\"text-align: right;\">\n",
       "      <th></th>\n",
       "      <th>Price</th>\n",
       "      <th>Return</th>\n",
       "      <th>Direction</th>\n",
       "      <th>Lag 1</th>\n",
       "      <th>Lag 2</th>\n",
       "      <th>Lag 3</th>\n",
       "      <th>Lag 4</th>\n",
       "      <th>Lag 5</th>\n",
       "      <th>Lag 6</th>\n",
       "      <th>Lag 7</th>\n",
       "      <th>...</th>\n",
       "      <th>Lag 30</th>\n",
       "      <th>Lag 31</th>\n",
       "      <th>Lag 32</th>\n",
       "      <th>Lag 33</th>\n",
       "      <th>Lag 34</th>\n",
       "      <th>Lag 35</th>\n",
       "      <th>Lag 36</th>\n",
       "      <th>Lag 37</th>\n",
       "      <th>Lag 38</th>\n",
       "      <th>Lag 39</th>\n",
       "    </tr>\n",
       "    <tr>\n",
       "      <th>Date</th>\n",
       "      <th></th>\n",
       "      <th></th>\n",
       "      <th></th>\n",
       "      <th></th>\n",
       "      <th></th>\n",
       "      <th></th>\n",
       "      <th></th>\n",
       "      <th></th>\n",
       "      <th></th>\n",
       "      <th></th>\n",
       "      <th></th>\n",
       "      <th></th>\n",
       "      <th></th>\n",
       "      <th></th>\n",
       "      <th></th>\n",
       "      <th></th>\n",
       "      <th></th>\n",
       "      <th></th>\n",
       "      <th></th>\n",
       "      <th></th>\n",
       "      <th></th>\n",
       "    </tr>\n",
       "  </thead>\n",
       "  <tbody>\n",
       "    <tr>\n",
       "      <th>2019-01-02</th>\n",
       "      <td>2510.030029</td>\n",
       "      <td>0.001268</td>\n",
       "      <td>1</td>\n",
       "      <td>0.008457</td>\n",
       "      <td>-0.001242</td>\n",
       "      <td>0.008526</td>\n",
       "      <td>0.048403</td>\n",
       "      <td>-0.027487</td>\n",
       "      <td>-0.020803</td>\n",
       "      <td>-0.015898</td>\n",
       "      <td>...</td>\n",
       "      <td>0.010538</td>\n",
       "      <td>-0.007596</td>\n",
       "      <td>-0.001483</td>\n",
       "      <td>-0.019898</td>\n",
       "      <td>-0.009242</td>\n",
       "      <td>-0.002512</td>\n",
       "      <td>0.020987</td>\n",
       "      <td>0.006240</td>\n",
       "      <td>0.005585</td>\n",
       "      <td>-0.006337</td>\n",
       "    </tr>\n",
       "    <tr>\n",
       "      <th>2019-01-03</th>\n",
       "      <td>2447.889893</td>\n",
       "      <td>-0.025068</td>\n",
       "      <td>-1</td>\n",
       "      <td>0.001268</td>\n",
       "      <td>0.008457</td>\n",
       "      <td>-0.001242</td>\n",
       "      <td>0.008526</td>\n",
       "      <td>0.048403</td>\n",
       "      <td>-0.027487</td>\n",
       "      <td>-0.020803</td>\n",
       "      <td>...</td>\n",
       "      <td>0.002221</td>\n",
       "      <td>0.010538</td>\n",
       "      <td>-0.007596</td>\n",
       "      <td>-0.001483</td>\n",
       "      <td>-0.019898</td>\n",
       "      <td>-0.009242</td>\n",
       "      <td>-0.002512</td>\n",
       "      <td>0.020987</td>\n",
       "      <td>0.006240</td>\n",
       "      <td>0.005585</td>\n",
       "    </tr>\n",
       "    <tr>\n",
       "      <th>2019-01-04</th>\n",
       "      <td>2531.939941</td>\n",
       "      <td>0.033759</td>\n",
       "      <td>1</td>\n",
       "      <td>-0.025068</td>\n",
       "      <td>0.001268</td>\n",
       "      <td>0.008457</td>\n",
       "      <td>-0.001242</td>\n",
       "      <td>0.008526</td>\n",
       "      <td>0.048403</td>\n",
       "      <td>-0.027487</td>\n",
       "      <td>...</td>\n",
       "      <td>-0.016783</td>\n",
       "      <td>0.002221</td>\n",
       "      <td>0.010538</td>\n",
       "      <td>-0.007596</td>\n",
       "      <td>-0.001483</td>\n",
       "      <td>-0.019898</td>\n",
       "      <td>-0.009242</td>\n",
       "      <td>-0.002512</td>\n",
       "      <td>0.020987</td>\n",
       "      <td>0.006240</td>\n",
       "    </tr>\n",
       "    <tr>\n",
       "      <th>2019-01-07</th>\n",
       "      <td>2549.689941</td>\n",
       "      <td>0.006986</td>\n",
       "      <td>1</td>\n",
       "      <td>0.033759</td>\n",
       "      <td>-0.025068</td>\n",
       "      <td>0.001268</td>\n",
       "      <td>0.008457</td>\n",
       "      <td>-0.001242</td>\n",
       "      <td>0.008526</td>\n",
       "      <td>0.048403</td>\n",
       "      <td>...</td>\n",
       "      <td>-0.018318</td>\n",
       "      <td>-0.016783</td>\n",
       "      <td>0.002221</td>\n",
       "      <td>0.010538</td>\n",
       "      <td>-0.007596</td>\n",
       "      <td>-0.001483</td>\n",
       "      <td>-0.019898</td>\n",
       "      <td>-0.009242</td>\n",
       "      <td>-0.002512</td>\n",
       "      <td>0.020987</td>\n",
       "    </tr>\n",
       "    <tr>\n",
       "      <th>2019-01-08</th>\n",
       "      <td>2574.409912</td>\n",
       "      <td>0.009649</td>\n",
       "      <td>1</td>\n",
       "      <td>0.006986</td>\n",
       "      <td>0.033759</td>\n",
       "      <td>-0.025068</td>\n",
       "      <td>0.001268</td>\n",
       "      <td>0.008457</td>\n",
       "      <td>-0.001242</td>\n",
       "      <td>0.008526</td>\n",
       "      <td>...</td>\n",
       "      <td>0.003039</td>\n",
       "      <td>-0.018318</td>\n",
       "      <td>-0.016783</td>\n",
       "      <td>0.002221</td>\n",
       "      <td>0.010538</td>\n",
       "      <td>-0.007596</td>\n",
       "      <td>-0.001483</td>\n",
       "      <td>-0.019898</td>\n",
       "      <td>-0.009242</td>\n",
       "      <td>-0.002512</td>\n",
       "    </tr>\n",
       "    <tr>\n",
       "      <th>...</th>\n",
       "      <td>...</td>\n",
       "      <td>...</td>\n",
       "      <td>...</td>\n",
       "      <td>...</td>\n",
       "      <td>...</td>\n",
       "      <td>...</td>\n",
       "      <td>...</td>\n",
       "      <td>...</td>\n",
       "      <td>...</td>\n",
       "      <td>...</td>\n",
       "      <td>...</td>\n",
       "      <td>...</td>\n",
       "      <td>...</td>\n",
       "      <td>...</td>\n",
       "      <td>...</td>\n",
       "      <td>...</td>\n",
       "      <td>...</td>\n",
       "      <td>...</td>\n",
       "      <td>...</td>\n",
       "      <td>...</td>\n",
       "      <td>...</td>\n",
       "    </tr>\n",
       "    <tr>\n",
       "      <th>2019-05-24</th>\n",
       "      <td>2826.060059</td>\n",
       "      <td>0.001353</td>\n",
       "      <td>1</td>\n",
       "      <td>-0.011986</td>\n",
       "      <td>-0.002828</td>\n",
       "      <td>0.008460</td>\n",
       "      <td>-0.006772</td>\n",
       "      <td>-0.005854</td>\n",
       "      <td>0.008856</td>\n",
       "      <td>0.005822</td>\n",
       "      <td>...</td>\n",
       "      <td>0.000038</td>\n",
       "      <td>0.003472</td>\n",
       "      <td>-0.006086</td>\n",
       "      <td>0.001047</td>\n",
       "      <td>0.004626</td>\n",
       "      <td>0.002082</td>\n",
       "      <td>0.002146</td>\n",
       "      <td>0.000017</td>\n",
       "      <td>0.011502</td>\n",
       "      <td>0.006712</td>\n",
       "    </tr>\n",
       "    <tr>\n",
       "      <th>2019-05-28</th>\n",
       "      <td>2802.389893</td>\n",
       "      <td>-0.008411</td>\n",
       "      <td>-1</td>\n",
       "      <td>0.001353</td>\n",
       "      <td>-0.011986</td>\n",
       "      <td>-0.002828</td>\n",
       "      <td>0.008460</td>\n",
       "      <td>-0.006772</td>\n",
       "      <td>-0.005854</td>\n",
       "      <td>0.008856</td>\n",
       "      <td>...</td>\n",
       "      <td>0.006588</td>\n",
       "      <td>0.000038</td>\n",
       "      <td>0.003472</td>\n",
       "      <td>-0.006086</td>\n",
       "      <td>0.001047</td>\n",
       "      <td>0.004626</td>\n",
       "      <td>0.002082</td>\n",
       "      <td>0.002146</td>\n",
       "      <td>0.000017</td>\n",
       "      <td>0.011502</td>\n",
       "    </tr>\n",
       "    <tr>\n",
       "      <th>2019-05-29</th>\n",
       "      <td>2783.020020</td>\n",
       "      <td>-0.006936</td>\n",
       "      <td>-1</td>\n",
       "      <td>-0.008411</td>\n",
       "      <td>0.001353</td>\n",
       "      <td>-0.011986</td>\n",
       "      <td>-0.002828</td>\n",
       "      <td>0.008460</td>\n",
       "      <td>-0.006772</td>\n",
       "      <td>-0.005854</td>\n",
       "      <td>...</td>\n",
       "      <td>-0.000630</td>\n",
       "      <td>0.006588</td>\n",
       "      <td>0.000038</td>\n",
       "      <td>0.003472</td>\n",
       "      <td>-0.006086</td>\n",
       "      <td>0.001047</td>\n",
       "      <td>0.004626</td>\n",
       "      <td>0.002082</td>\n",
       "      <td>0.002146</td>\n",
       "      <td>0.000017</td>\n",
       "    </tr>\n",
       "    <tr>\n",
       "      <th>2019-05-30</th>\n",
       "      <td>2788.860107</td>\n",
       "      <td>0.002096</td>\n",
       "      <td>1</td>\n",
       "      <td>-0.006936</td>\n",
       "      <td>-0.008411</td>\n",
       "      <td>0.001353</td>\n",
       "      <td>-0.011986</td>\n",
       "      <td>-0.002828</td>\n",
       "      <td>0.008460</td>\n",
       "      <td>-0.006772</td>\n",
       "      <td>...</td>\n",
       "      <td>0.000509</td>\n",
       "      <td>-0.000630</td>\n",
       "      <td>0.006588</td>\n",
       "      <td>0.000038</td>\n",
       "      <td>0.003472</td>\n",
       "      <td>-0.006086</td>\n",
       "      <td>0.001047</td>\n",
       "      <td>0.004626</td>\n",
       "      <td>0.002082</td>\n",
       "      <td>0.002146</td>\n",
       "    </tr>\n",
       "    <tr>\n",
       "      <th>2019-05-31</th>\n",
       "      <td>2752.060059</td>\n",
       "      <td>-0.013283</td>\n",
       "      <td>-1</td>\n",
       "      <td>0.002096</td>\n",
       "      <td>-0.006936</td>\n",
       "      <td>-0.008411</td>\n",
       "      <td>0.001353</td>\n",
       "      <td>-0.011986</td>\n",
       "      <td>-0.002828</td>\n",
       "      <td>0.008460</td>\n",
       "      <td>...</td>\n",
       "      <td>-0.002276</td>\n",
       "      <td>0.000509</td>\n",
       "      <td>-0.000630</td>\n",
       "      <td>0.006588</td>\n",
       "      <td>0.000038</td>\n",
       "      <td>0.003472</td>\n",
       "      <td>-0.006086</td>\n",
       "      <td>0.001047</td>\n",
       "      <td>0.004626</td>\n",
       "      <td>0.002082</td>\n",
       "    </tr>\n",
       "  </tbody>\n",
       "</table>\n",
       "<p>104 rows × 42 columns</p>\n",
       "</div>"
      ],
      "text/plain": [
       "                  Price    Return  Direction     Lag 1     Lag 2     Lag 3  \\\n",
       "Date                                                                         \n",
       "2019-01-02  2510.030029  0.001268          1  0.008457 -0.001242  0.008526   \n",
       "2019-01-03  2447.889893 -0.025068         -1  0.001268  0.008457 -0.001242   \n",
       "2019-01-04  2531.939941  0.033759          1 -0.025068  0.001268  0.008457   \n",
       "2019-01-07  2549.689941  0.006986          1  0.033759 -0.025068  0.001268   \n",
       "2019-01-08  2574.409912  0.009649          1  0.006986  0.033759 -0.025068   \n",
       "...                 ...       ...        ...       ...       ...       ...   \n",
       "2019-05-24  2826.060059  0.001353          1 -0.011986 -0.002828  0.008460   \n",
       "2019-05-28  2802.389893 -0.008411         -1  0.001353 -0.011986 -0.002828   \n",
       "2019-05-29  2783.020020 -0.006936         -1 -0.008411  0.001353 -0.011986   \n",
       "2019-05-30  2788.860107  0.002096          1 -0.006936 -0.008411  0.001353   \n",
       "2019-05-31  2752.060059 -0.013283         -1  0.002096 -0.006936 -0.008411   \n",
       "\n",
       "               Lag 4     Lag 5     Lag 6     Lag 7  ...    Lag 30    Lag 31  \\\n",
       "Date                                                ...                       \n",
       "2019-01-02  0.048403 -0.027487 -0.020803 -0.015898  ...  0.010538 -0.007596   \n",
       "2019-01-03  0.008526  0.048403 -0.027487 -0.020803  ...  0.002221  0.010538   \n",
       "2019-01-04 -0.001242  0.008526  0.048403 -0.027487  ... -0.016783  0.002221   \n",
       "2019-01-07  0.008457 -0.001242  0.008526  0.048403  ... -0.018318 -0.016783   \n",
       "2019-01-08  0.001268  0.008457 -0.001242  0.008526  ...  0.003039 -0.018318   \n",
       "...              ...       ...       ...       ...  ...       ...       ...   \n",
       "2019-05-24 -0.006772 -0.005854  0.008856  0.005822  ...  0.000038  0.003472   \n",
       "2019-05-28  0.008460 -0.006772 -0.005854  0.008856  ...  0.006588  0.000038   \n",
       "2019-05-29 -0.002828  0.008460 -0.006772 -0.005854  ... -0.000630  0.006588   \n",
       "2019-05-30 -0.011986 -0.002828  0.008460 -0.006772  ...  0.000509 -0.000630   \n",
       "2019-05-31  0.001353 -0.011986 -0.002828  0.008460  ... -0.002276  0.000509   \n",
       "\n",
       "              Lag 32    Lag 33    Lag 34    Lag 35    Lag 36    Lag 37  \\\n",
       "Date                                                                     \n",
       "2019-01-02 -0.001483 -0.019898 -0.009242 -0.002512  0.020987  0.006240   \n",
       "2019-01-03 -0.007596 -0.001483 -0.019898 -0.009242 -0.002512  0.020987   \n",
       "2019-01-04  0.010538 -0.007596 -0.001483 -0.019898 -0.009242 -0.002512   \n",
       "2019-01-07  0.002221  0.010538 -0.007596 -0.001483 -0.019898 -0.009242   \n",
       "2019-01-08 -0.016783  0.002221  0.010538 -0.007596 -0.001483 -0.019898   \n",
       "...              ...       ...       ...       ...       ...       ...   \n",
       "2019-05-24 -0.006086  0.001047  0.004626  0.002082  0.002146  0.000017   \n",
       "2019-05-28  0.003472 -0.006086  0.001047  0.004626  0.002082  0.002146   \n",
       "2019-05-29  0.000038  0.003472 -0.006086  0.001047  0.004626  0.002082   \n",
       "2019-05-30  0.006588  0.000038  0.003472 -0.006086  0.001047  0.004626   \n",
       "2019-05-31 -0.000630  0.006588  0.000038  0.003472 -0.006086  0.001047   \n",
       "\n",
       "              Lag 38    Lag 39  \n",
       "Date                            \n",
       "2019-01-02  0.005585 -0.006337  \n",
       "2019-01-03  0.006240  0.005585  \n",
       "2019-01-04  0.020987  0.006240  \n",
       "2019-01-07 -0.002512  0.020987  \n",
       "2019-01-08 -0.009242 -0.002512  \n",
       "...              ...       ...  \n",
       "2019-05-24  0.011502  0.006712  \n",
       "2019-05-28  0.000017  0.011502  \n",
       "2019-05-29  0.002146  0.000017  \n",
       "2019-05-30  0.002082  0.002146  \n",
       "2019-05-31  0.004626  0.002082  \n",
       "\n",
       "[104 rows x 42 columns]"
      ]
     },
     "execution_count": 19,
     "metadata": {},
     "output_type": "execute_result"
    }
   ],
   "source": [
    "df_test = pd.read_csv('test_set.csv', index_col='Date', parse_dates=['Date'])\n",
    "df_test"
   ]
  },
  {
   "cell_type": "code",
   "execution_count": 20,
   "id": "10af3f2d",
   "metadata": {},
   "outputs": [],
   "source": [
    "X_test = df_test[lag_cols]\n",
    "Y_test = df_test['Direction']"
   ]
  },
  {
   "cell_type": "markdown",
   "id": "e93b3f00",
   "metadata": {},
   "source": [
    "## Multiple Regression"
   ]
  },
  {
   "cell_type": "code",
   "execution_count": 21,
   "id": "4aea4fd7",
   "metadata": {},
   "outputs": [],
   "source": [
    "from sklearn.linear_model import LinearRegression"
   ]
  },
  {
   "cell_type": "code",
   "execution_count": 22,
   "id": "6906a880",
   "metadata": {},
   "outputs": [
    {
     "data": {
      "text/plain": [
       "LinearRegression()"
      ]
     },
     "execution_count": 22,
     "metadata": {},
     "output_type": "execute_result"
    }
   ],
   "source": [
    "lm = LinearRegression(fit_intercept=True)\n",
    "lm.fit(X_train, Y_train)"
   ]
  },
  {
   "cell_type": "code",
   "execution_count": 23,
   "id": "38c09048",
   "metadata": {},
   "outputs": [
    {
     "data": {
      "text/plain": [
       "array([-7.21514358, -0.15315402, -2.62419354, -0.33177916, -3.6990286 ,\n",
       "        0.21335611, -3.28973424, -1.47027414, -4.17173852, -1.55032348,\n",
       "        1.73512752,  3.93500668, -1.54260781, -2.86336509, -8.16131918,\n",
       "        6.56196487,  5.17870981,  2.73946478, -4.98950111,  2.7661501 ,\n",
       "        3.08077499,  4.2520307 ,  0.54229555,  4.28426993, -1.09959058,\n",
       "        1.07185462, -4.31501879, -5.85223872, -1.23677171, -1.58837961,\n",
       "       -1.84840084, -2.5696444 , -4.3833158 , -1.40120241,  4.02608106,\n",
       "        0.79181017, -4.12592006, -4.61488995,  8.06979836])"
      ]
     },
     "execution_count": 23,
     "metadata": {},
     "output_type": "execute_result"
    }
   ],
   "source": [
    "lm.coef_"
   ]
  },
  {
   "cell_type": "code",
   "execution_count": 24,
   "id": "c67f3dc3",
   "metadata": {},
   "outputs": [
    {
     "data": {
      "text/plain": [
       "0.055986865640847205"
      ]
     },
     "execution_count": 24,
     "metadata": {},
     "output_type": "execute_result"
    }
   ],
   "source": [
    "lm.intercept_"
   ]
  },
  {
   "cell_type": "code",
   "execution_count": 25,
   "id": "7c735fcc",
   "metadata": {},
   "outputs": [
    {
     "data": {
      "text/html": [
       "<div>\n",
       "<style scoped>\n",
       "    .dataframe tbody tr th:only-of-type {\n",
       "        vertical-align: middle;\n",
       "    }\n",
       "\n",
       "    .dataframe tbody tr th {\n",
       "        vertical-align: top;\n",
       "    }\n",
       "\n",
       "    .dataframe thead th {\n",
       "        text-align: right;\n",
       "    }\n",
       "</style>\n",
       "<table border=\"1\" class=\"dataframe\">\n",
       "  <thead>\n",
       "    <tr style=\"text-align: right;\">\n",
       "      <th></th>\n",
       "      <th>Return</th>\n",
       "      <th>Prediction</th>\n",
       "    </tr>\n",
       "    <tr>\n",
       "      <th>Date</th>\n",
       "      <th></th>\n",
       "      <th></th>\n",
       "    </tr>\n",
       "  </thead>\n",
       "  <tbody>\n",
       "    <tr>\n",
       "      <th>2014-07-29</th>\n",
       "      <td>-0.004538</td>\n",
       "      <td>-0.041191</td>\n",
       "    </tr>\n",
       "    <tr>\n",
       "      <th>2014-07-30</th>\n",
       "      <td>0.000061</td>\n",
       "      <td>0.081229</td>\n",
       "    </tr>\n",
       "    <tr>\n",
       "      <th>2014-07-31</th>\n",
       "      <td>-0.020202</td>\n",
       "      <td>-0.019969</td>\n",
       "    </tr>\n",
       "    <tr>\n",
       "      <th>2014-08-01</th>\n",
       "      <td>-0.002863</td>\n",
       "      <td>0.241509</td>\n",
       "    </tr>\n",
       "    <tr>\n",
       "      <th>2014-08-04</th>\n",
       "      <td>0.007163</td>\n",
       "      <td>0.043256</td>\n",
       "    </tr>\n",
       "    <tr>\n",
       "      <th>...</th>\n",
       "      <td>...</td>\n",
       "      <td>...</td>\n",
       "    </tr>\n",
       "    <tr>\n",
       "      <th>2018-12-24</th>\n",
       "      <td>-0.027487</td>\n",
       "      <td>0.093578</td>\n",
       "    </tr>\n",
       "    <tr>\n",
       "      <th>2018-12-26</th>\n",
       "      <td>0.048403</td>\n",
       "      <td>0.119278</td>\n",
       "    </tr>\n",
       "    <tr>\n",
       "      <th>2018-12-27</th>\n",
       "      <td>0.008526</td>\n",
       "      <td>0.205426</td>\n",
       "    </tr>\n",
       "    <tr>\n",
       "      <th>2018-12-28</th>\n",
       "      <td>-0.001242</td>\n",
       "      <td>0.418737</td>\n",
       "    </tr>\n",
       "    <tr>\n",
       "      <th>2018-12-31</th>\n",
       "      <td>0.008457</td>\n",
       "      <td>0.577241</td>\n",
       "    </tr>\n",
       "  </tbody>\n",
       "</table>\n",
       "<p>1114 rows × 2 columns</p>\n",
       "</div>"
      ],
      "text/plain": [
       "              Return  Prediction\n",
       "Date                            \n",
       "2014-07-29 -0.004538   -0.041191\n",
       "2014-07-30  0.000061    0.081229\n",
       "2014-07-31 -0.020202   -0.019969\n",
       "2014-08-01 -0.002863    0.241509\n",
       "2014-08-04  0.007163    0.043256\n",
       "...              ...         ...\n",
       "2018-12-24 -0.027487    0.093578\n",
       "2018-12-26  0.048403    0.119278\n",
       "2018-12-27  0.008526    0.205426\n",
       "2018-12-28 -0.001242    0.418737\n",
       "2018-12-31  0.008457    0.577241\n",
       "\n",
       "[1114 rows x 2 columns]"
      ]
     },
     "execution_count": 25,
     "metadata": {},
     "output_type": "execute_result"
    }
   ],
   "source": [
    "df_train['Prediction'] = lm.predict(X_train)\n",
    "df_train[['Return','Prediction']]"
   ]
  },
  {
   "cell_type": "code",
   "execution_count": 26,
   "id": "cdd7cb27",
   "metadata": {},
   "outputs": [],
   "source": [
    "df_train['Prediction'] = np.sign(df_train['Prediction']).astype('int')"
   ]
  },
  {
   "cell_type": "code",
   "execution_count": 27,
   "id": "668573cb",
   "metadata": {},
   "outputs": [
    {
     "data": {
      "text/plain": [
       " 1    705\n",
       "-1    409\n",
       "Name: Prediction, dtype: int64"
      ]
     },
     "execution_count": 27,
     "metadata": {},
     "output_type": "execute_result"
    }
   ],
   "source": [
    "df_train['Prediction'].value_counts()"
   ]
  },
  {
   "cell_type": "code",
   "execution_count": 28,
   "id": "7c5af8cf",
   "metadata": {},
   "outputs": [
    {
     "data": {
      "text/plain": [
       " 1    585\n",
       "-1    529\n",
       "Name: Direction, dtype: int64"
      ]
     },
     "execution_count": 28,
     "metadata": {},
     "output_type": "execute_result"
    }
   ],
   "source": [
    "df_train['Direction'].value_counts()"
   ]
  },
  {
   "cell_type": "code",
   "execution_count": 29,
   "id": "baa9bcc6",
   "metadata": {},
   "outputs": [
    {
     "data": {
      "text/plain": [
       "0.5709156193895871"
      ]
     },
     "execution_count": 29,
     "metadata": {},
     "output_type": "execute_result"
    }
   ],
   "source": [
    "accuracy_score(y_true=df_train.Direction, y_pred=df_train.Prediction)"
   ]
  },
  {
   "cell_type": "code",
   "execution_count": 30,
   "id": "b900bc36",
   "metadata": {
    "scrolled": true
   },
   "outputs": [
    {
     "data": {
      "text/plain": [
       "array([0.49040512, 0.62945736])"
      ]
     },
     "execution_count": 30,
     "metadata": {},
     "output_type": "execute_result"
    }
   ],
   "source": [
    "f1_score(df_train.Direction, df_train.Prediction, average=None, labels=[-1,1])"
   ]
  },
  {
   "cell_type": "markdown",
   "id": "e132f0c1",
   "metadata": {},
   "source": [
    "#### Backtesting"
   ]
  },
  {
   "cell_type": "code",
   "execution_count": 31,
   "id": "0131bc5e",
   "metadata": {},
   "outputs": [],
   "source": [
    "df_train['Strategy_ret'] = df_train['Return'] * df_train['Prediction']\n",
    "df_train['Strategy'] = np.exp(df_train['Strategy_ret'].cumsum())\n",
    "df_train['S&P 500'] = np.exp(df_train['Return'].cumsum())"
   ]
  },
  {
   "cell_type": "code",
   "execution_count": 32,
   "id": "a56b62f6",
   "metadata": {
    "scrolled": false
   },
   "outputs": [
    {
     "data": {
      "image/png": "[encoded data removed]",
      "text/plain": [
       "<Figure size 864x576 with 1 Axes>"
      ]
     },
     "metadata": {},
     "output_type": "display_data"
    }
   ],
   "source": [
    "df_train[['Strategy','S&P 500']].plot(figsize=(12,8))\n",
    "plt.legend(fontsize=13)\n",
    "plt.show()"
   ]
  },
  {
   "cell_type": "code",
   "execution_count": 33,
   "id": "92dba8e3",
   "metadata": {},
   "outputs": [],
   "source": [
    "df_train.rename(columns={'Return':'Buy & Hold', 'Strategy_ret':'LM Strategy'}, inplace=True)"
   ]
  },
  {
   "cell_type": "markdown",
   "id": "bfd5aae8",
   "metadata": {},
   "source": [
    "#### Annualized Return and Risk"
   ]
  },
  {
   "cell_type": "code",
   "execution_count": 34,
   "id": "1f8b1544",
   "metadata": {},
   "outputs": [],
   "source": [
    "def ann_rr(returns):\n",
    "    output = returns.agg(['mean', 'std']).T       \n",
    "    output['Annualized Return'] = output['mean'] * 252\n",
    "    output['Annualized Risk'] = output['std'] * np.sqrt(252)\n",
    "    output.drop(columns=['mean', 'std'], inplace=True)  \n",
    "    return(output)"
   ]
  },
  {
   "cell_type": "code",
   "execution_count": 35,
   "id": "bcd9f2b3",
   "metadata": {},
   "outputs": [
    {
     "data": {
      "text/html": [
       "<div>\n",
       "<style scoped>\n",
       "    .dataframe tbody tr th:only-of-type {\n",
       "        vertical-align: middle;\n",
       "    }\n",
       "\n",
       "    .dataframe tbody tr th {\n",
       "        vertical-align: top;\n",
       "    }\n",
       "\n",
       "    .dataframe thead th {\n",
       "        text-align: right;\n",
       "    }\n",
       "</style>\n",
       "<table border=\"1\" class=\"dataframe\">\n",
       "  <thead>\n",
       "    <tr style=\"text-align: right;\">\n",
       "      <th></th>\n",
       "      <th>Annualized Return</th>\n",
       "      <th>Annualized Risk</th>\n",
       "    </tr>\n",
       "  </thead>\n",
       "  <tbody>\n",
       "    <tr>\n",
       "      <th>Buy &amp; Hold</th>\n",
       "      <td>0.053495</td>\n",
       "      <td>0.135776</td>\n",
       "    </tr>\n",
       "    <tr>\n",
       "      <th>LM Strategy</th>\n",
       "      <td>0.225510</td>\n",
       "      <td>0.135072</td>\n",
       "    </tr>\n",
       "  </tbody>\n",
       "</table>\n",
       "</div>"
      ],
      "text/plain": [
       "             Annualized Return  Annualized Risk\n",
       "Buy & Hold            0.053495         0.135776\n",
       "LM Strategy           0.225510         0.135072"
      ]
     },
     "execution_count": 35,
     "metadata": {},
     "output_type": "execute_result"
    }
   ],
   "source": [
    "ann_rr(df_train[['Buy & Hold', 'LM Strategy']])"
   ]
  },
  {
   "cell_type": "code",
   "execution_count": 36,
   "id": "c85ee8d3",
   "metadata": {},
   "outputs": [],
   "source": [
    "df_test = pd.read_csv('test_set.csv', index_col='Date', parse_dates=['Date'])"
   ]
  },
  {
   "cell_type": "code",
   "execution_count": 37,
   "id": "609c2eaa",
   "metadata": {
    "scrolled": true
   },
   "outputs": [],
   "source": [
    "df_test['Prediction'] = lm.predict(X_test)"
   ]
  },
  {
   "cell_type": "code",
   "execution_count": 38,
   "id": "4a656d18",
   "metadata": {},
   "outputs": [],
   "source": [
    "df_test['Prediction'] = np.sign(df_test['Prediction'])"
   ]
  },
  {
   "cell_type": "code",
   "execution_count": 39,
   "id": "7adce0d5",
   "metadata": {},
   "outputs": [
    {
     "data": {
      "text/plain": [
       " 1.0    60\n",
       "-1.0    44\n",
       "Name: Prediction, dtype: int64"
      ]
     },
     "execution_count": 39,
     "metadata": {},
     "output_type": "execute_result"
    }
   ],
   "source": [
    "df_test['Prediction'].value_counts()"
   ]
  },
  {
   "cell_type": "code",
   "execution_count": 40,
   "id": "b3d62377",
   "metadata": {},
   "outputs": [
    {
     "data": {
      "text/plain": [
       "0.5288461538461539"
      ]
     },
     "execution_count": 40,
     "metadata": {},
     "output_type": "execute_result"
    }
   ],
   "source": [
    "accuracy_score(y_true=df_test.Direction, y_pred=df_test.Prediction)"
   ]
  },
  {
   "cell_type": "code",
   "execution_count": 41,
   "id": "5b9feee1",
   "metadata": {},
   "outputs": [
    {
     "data": {
      "text/plain": [
       "array([0.43678161, 0.59504132])"
      ]
     },
     "execution_count": 41,
     "metadata": {},
     "output_type": "execute_result"
    }
   ],
   "source": [
    "f1_score(df_test.Direction, df_test.Prediction, average=None, labels=[-1,1])"
   ]
  },
  {
   "cell_type": "markdown",
   "id": "099c38ac",
   "metadata": {},
   "source": [
    "### Logistic Regression"
   ]
  },
  {
   "cell_type": "code",
   "execution_count": 42,
   "id": "e1fa35d5",
   "metadata": {},
   "outputs": [],
   "source": [
    "from sklearn.linear_model import LogisticRegression"
   ]
  },
  {
   "cell_type": "code",
   "execution_count": 43,
   "id": "33d681a3",
   "metadata": {},
   "outputs": [],
   "source": [
    "df_train = pd.read_csv('train_set.csv', index_col='Date', parse_dates=['Date'])"
   ]
  },
  {
   "cell_type": "code",
   "execution_count": 44,
   "id": "e93bc251",
   "metadata": {},
   "outputs": [
    {
     "data": {
      "text/plain": [
       "LogisticRegression(C=1000, max_iter=100000, multi_class='ovr')"
      ]
     },
     "execution_count": 44,
     "metadata": {},
     "output_type": "execute_result"
    }
   ],
   "source": [
    "clf_log = LogisticRegression(C=1000, max_iter=100000, multi_class='ovr')   \n",
    "clf_log.fit(X_train, Y_train)         "
   ]
  },
  {
   "cell_type": "code",
   "execution_count": 45,
   "id": "03cc2842",
   "metadata": {},
   "outputs": [],
   "source": [
    "df_train['Prediction'] = clf_log.predict(X_train)"
   ]
  },
  {
   "cell_type": "code",
   "execution_count": 46,
   "id": "f2698b95",
   "metadata": {},
   "outputs": [
    {
     "data": {
      "text/plain": [
       " 1    714\n",
       "-1    400\n",
       "Name: Prediction, dtype: int64"
      ]
     },
     "execution_count": 46,
     "metadata": {},
     "output_type": "execute_result"
    }
   ],
   "source": [
    "df_train['Prediction'].value_counts()"
   ]
  },
  {
   "cell_type": "code",
   "execution_count": 47,
   "id": "85870025",
   "metadata": {},
   "outputs": [
    {
     "data": {
      "text/plain": [
       "0.573608617594255"
      ]
     },
     "execution_count": 47,
     "metadata": {},
     "output_type": "execute_result"
    }
   ],
   "source": [
    "accuracy_score(y_true=df_train.Direction, y_pred=df_train.Prediction)"
   ]
  },
  {
   "cell_type": "code",
   "execution_count": 48,
   "id": "596a437d",
   "metadata": {
    "scrolled": true
   },
   "outputs": [
    {
     "data": {
      "text/plain": [
       "array([0.48869752, 0.6343341 ])"
      ]
     },
     "execution_count": 48,
     "metadata": {},
     "output_type": "execute_result"
    }
   ],
   "source": [
    "f1_score(df_train.Direction, df_train.Prediction, average=None, labels=[-1,1])"
   ]
  },
  {
   "cell_type": "markdown",
   "id": "f289a811",
   "metadata": {},
   "source": [
    "#### Backtesting"
   ]
  },
  {
   "cell_type": "code",
   "execution_count": 49,
   "id": "aef3824a",
   "metadata": {},
   "outputs": [],
   "source": [
    "df_train['Strategy_ret'] = df_train['Return'] * df_train['Prediction']\n",
    "df_train['Strategy'] = np.exp(df_train['Strategy_ret'].cumsum())\n",
    "df_train['S&P 500'] = np.exp(df_train['Return'].cumsum())"
   ]
  },
  {
   "cell_type": "code",
   "execution_count": 50,
   "id": "cf1f1da4",
   "metadata": {
    "scrolled": false
   },
   "outputs": [
    {
     "data": {
      "image/png": "[encoded data removed]",
      "text/plain": [
       "<Figure size 864x576 with 1 Axes>"
      ]
     },
     "metadata": {},
     "output_type": "display_data"
    }
   ],
   "source": [
    "df_train[['Strategy','S&P 500']].plot(figsize=(12,8))\n",
    "plt.legend(fontsize=13)\n",
    "plt.show()"
   ]
  },
  {
   "cell_type": "code",
   "execution_count": 51,
   "id": "a61b8bef",
   "metadata": {},
   "outputs": [],
   "source": [
    "df_train.rename(columns={'Return':'Buy & Hold', 'Strategy_ret':'Log_M Strategy'}, inplace=True)"
   ]
  },
  {
   "cell_type": "code",
   "execution_count": 52,
   "id": "6238cedc",
   "metadata": {},
   "outputs": [
    {
     "data": {
      "text/html": [
       "<div>\n",
       "<style scoped>\n",
       "    .dataframe tbody tr th:only-of-type {\n",
       "        vertical-align: middle;\n",
       "    }\n",
       "\n",
       "    .dataframe tbody tr th {\n",
       "        vertical-align: top;\n",
       "    }\n",
       "\n",
       "    .dataframe thead th {\n",
       "        text-align: right;\n",
       "    }\n",
       "</style>\n",
       "<table border=\"1\" class=\"dataframe\">\n",
       "  <thead>\n",
       "    <tr style=\"text-align: right;\">\n",
       "      <th></th>\n",
       "      <th>Annualized Return</th>\n",
       "      <th>Annualized Risk</th>\n",
       "    </tr>\n",
       "  </thead>\n",
       "  <tbody>\n",
       "    <tr>\n",
       "      <th>Buy &amp; Hold</th>\n",
       "      <td>0.053495</td>\n",
       "      <td>0.135776</td>\n",
       "    </tr>\n",
       "    <tr>\n",
       "      <th>Log_M Strategy</th>\n",
       "      <td>0.241502</td>\n",
       "      <td>0.134962</td>\n",
       "    </tr>\n",
       "  </tbody>\n",
       "</table>\n",
       "</div>"
      ],
      "text/plain": [
       "                Annualized Return  Annualized Risk\n",
       "Buy & Hold               0.053495         0.135776\n",
       "Log_M Strategy           0.241502         0.134962"
      ]
     },
     "execution_count": 52,
     "metadata": {},
     "output_type": "execute_result"
    }
   ],
   "source": [
    "ann_rr(df_train[['Buy & Hold', 'Log_M Strategy']])"
   ]
  },
  {
   "cell_type": "code",
   "execution_count": 53,
   "id": "32483b46",
   "metadata": {
    "scrolled": true
   },
   "outputs": [
    {
     "data": {
      "text/html": [
       "<div>\n",
       "<style scoped>\n",
       "    .dataframe tbody tr th:only-of-type {\n",
       "        vertical-align: middle;\n",
       "    }\n",
       "\n",
       "    .dataframe tbody tr th {\n",
       "        vertical-align: top;\n",
       "    }\n",
       "\n",
       "    .dataframe thead th {\n",
       "        text-align: right;\n",
       "    }\n",
       "</style>\n",
       "<table border=\"1\" class=\"dataframe\">\n",
       "  <thead>\n",
       "    <tr style=\"text-align: right;\">\n",
       "      <th></th>\n",
       "      <th>Price</th>\n",
       "      <th>Return</th>\n",
       "      <th>Direction</th>\n",
       "      <th>Lag 1</th>\n",
       "      <th>Lag 2</th>\n",
       "      <th>Lag 3</th>\n",
       "      <th>Lag 4</th>\n",
       "      <th>Lag 5</th>\n",
       "      <th>Lag 6</th>\n",
       "      <th>Lag 7</th>\n",
       "      <th>...</th>\n",
       "      <th>Lag 30</th>\n",
       "      <th>Lag 31</th>\n",
       "      <th>Lag 32</th>\n",
       "      <th>Lag 33</th>\n",
       "      <th>Lag 34</th>\n",
       "      <th>Lag 35</th>\n",
       "      <th>Lag 36</th>\n",
       "      <th>Lag 37</th>\n",
       "      <th>Lag 38</th>\n",
       "      <th>Lag 39</th>\n",
       "    </tr>\n",
       "    <tr>\n",
       "      <th>Date</th>\n",
       "      <th></th>\n",
       "      <th></th>\n",
       "      <th></th>\n",
       "      <th></th>\n",
       "      <th></th>\n",
       "      <th></th>\n",
       "      <th></th>\n",
       "      <th></th>\n",
       "      <th></th>\n",
       "      <th></th>\n",
       "      <th></th>\n",
       "      <th></th>\n",
       "      <th></th>\n",
       "      <th></th>\n",
       "      <th></th>\n",
       "      <th></th>\n",
       "      <th></th>\n",
       "      <th></th>\n",
       "      <th></th>\n",
       "      <th></th>\n",
       "      <th></th>\n",
       "    </tr>\n",
       "  </thead>\n",
       "  <tbody>\n",
       "    <tr>\n",
       "      <th>2019-01-02</th>\n",
       "      <td>2510.030029</td>\n",
       "      <td>0.001268</td>\n",
       "      <td>1</td>\n",
       "      <td>0.008457</td>\n",
       "      <td>-0.001242</td>\n",
       "      <td>0.008526</td>\n",
       "      <td>0.048403</td>\n",
       "      <td>-0.027487</td>\n",
       "      <td>-0.020803</td>\n",
       "      <td>-0.015898</td>\n",
       "      <td>...</td>\n",
       "      <td>0.010538</td>\n",
       "      <td>-0.007596</td>\n",
       "      <td>-0.001483</td>\n",
       "      <td>-0.019898</td>\n",
       "      <td>-0.009242</td>\n",
       "      <td>-0.002512</td>\n",
       "      <td>0.020987</td>\n",
       "      <td>0.006240</td>\n",
       "      <td>0.005585</td>\n",
       "      <td>-0.006337</td>\n",
       "    </tr>\n",
       "    <tr>\n",
       "      <th>2019-01-03</th>\n",
       "      <td>2447.889893</td>\n",
       "      <td>-0.025068</td>\n",
       "      <td>-1</td>\n",
       "      <td>0.001268</td>\n",
       "      <td>0.008457</td>\n",
       "      <td>-0.001242</td>\n",
       "      <td>0.008526</td>\n",
       "      <td>0.048403</td>\n",
       "      <td>-0.027487</td>\n",
       "      <td>-0.020803</td>\n",
       "      <td>...</td>\n",
       "      <td>0.002221</td>\n",
       "      <td>0.010538</td>\n",
       "      <td>-0.007596</td>\n",
       "      <td>-0.001483</td>\n",
       "      <td>-0.019898</td>\n",
       "      <td>-0.009242</td>\n",
       "      <td>-0.002512</td>\n",
       "      <td>0.020987</td>\n",
       "      <td>0.006240</td>\n",
       "      <td>0.005585</td>\n",
       "    </tr>\n",
       "    <tr>\n",
       "      <th>2019-01-04</th>\n",
       "      <td>2531.939941</td>\n",
       "      <td>0.033759</td>\n",
       "      <td>1</td>\n",
       "      <td>-0.025068</td>\n",
       "      <td>0.001268</td>\n",
       "      <td>0.008457</td>\n",
       "      <td>-0.001242</td>\n",
       "      <td>0.008526</td>\n",
       "      <td>0.048403</td>\n",
       "      <td>-0.027487</td>\n",
       "      <td>...</td>\n",
       "      <td>-0.016783</td>\n",
       "      <td>0.002221</td>\n",
       "      <td>0.010538</td>\n",
       "      <td>-0.007596</td>\n",
       "      <td>-0.001483</td>\n",
       "      <td>-0.019898</td>\n",
       "      <td>-0.009242</td>\n",
       "      <td>-0.002512</td>\n",
       "      <td>0.020987</td>\n",
       "      <td>0.006240</td>\n",
       "    </tr>\n",
       "    <tr>\n",
       "      <th>2019-01-07</th>\n",
       "      <td>2549.689941</td>\n",
       "      <td>0.006986</td>\n",
       "      <td>1</td>\n",
       "      <td>0.033759</td>\n",
       "      <td>-0.025068</td>\n",
       "      <td>0.001268</td>\n",
       "      <td>0.008457</td>\n",
       "      <td>-0.001242</td>\n",
       "      <td>0.008526</td>\n",
       "      <td>0.048403</td>\n",
       "      <td>...</td>\n",
       "      <td>-0.018318</td>\n",
       "      <td>-0.016783</td>\n",
       "      <td>0.002221</td>\n",
       "      <td>0.010538</td>\n",
       "      <td>-0.007596</td>\n",
       "      <td>-0.001483</td>\n",
       "      <td>-0.019898</td>\n",
       "      <td>-0.009242</td>\n",
       "      <td>-0.002512</td>\n",
       "      <td>0.020987</td>\n",
       "    </tr>\n",
       "    <tr>\n",
       "      <th>2019-01-08</th>\n",
       "      <td>2574.409912</td>\n",
       "      <td>0.009649</td>\n",
       "      <td>1</td>\n",
       "      <td>0.006986</td>\n",
       "      <td>0.033759</td>\n",
       "      <td>-0.025068</td>\n",
       "      <td>0.001268</td>\n",
       "      <td>0.008457</td>\n",
       "      <td>-0.001242</td>\n",
       "      <td>0.008526</td>\n",
       "      <td>...</td>\n",
       "      <td>0.003039</td>\n",
       "      <td>-0.018318</td>\n",
       "      <td>-0.016783</td>\n",
       "      <td>0.002221</td>\n",
       "      <td>0.010538</td>\n",
       "      <td>-0.007596</td>\n",
       "      <td>-0.001483</td>\n",
       "      <td>-0.019898</td>\n",
       "      <td>-0.009242</td>\n",
       "      <td>-0.002512</td>\n",
       "    </tr>\n",
       "    <tr>\n",
       "      <th>...</th>\n",
       "      <td>...</td>\n",
       "      <td>...</td>\n",
       "      <td>...</td>\n",
       "      <td>...</td>\n",
       "      <td>...</td>\n",
       "      <td>...</td>\n",
       "      <td>...</td>\n",
       "      <td>...</td>\n",
       "      <td>...</td>\n",
       "      <td>...</td>\n",
       "      <td>...</td>\n",
       "      <td>...</td>\n",
       "      <td>...</td>\n",
       "      <td>...</td>\n",
       "      <td>...</td>\n",
       "      <td>...</td>\n",
       "      <td>...</td>\n",
       "      <td>...</td>\n",
       "      <td>...</td>\n",
       "      <td>...</td>\n",
       "      <td>...</td>\n",
       "    </tr>\n",
       "    <tr>\n",
       "      <th>2019-05-24</th>\n",
       "      <td>2826.060059</td>\n",
       "      <td>0.001353</td>\n",
       "      <td>1</td>\n",
       "      <td>-0.011986</td>\n",
       "      <td>-0.002828</td>\n",
       "      <td>0.008460</td>\n",
       "      <td>-0.006772</td>\n",
       "      <td>-0.005854</td>\n",
       "      <td>0.008856</td>\n",
       "      <td>0.005822</td>\n",
       "      <td>...</td>\n",
       "      <td>0.000038</td>\n",
       "      <td>0.003472</td>\n",
       "      <td>-0.006086</td>\n",
       "      <td>0.001047</td>\n",
       "      <td>0.004626</td>\n",
       "      <td>0.002082</td>\n",
       "      <td>0.002146</td>\n",
       "      <td>0.000017</td>\n",
       "      <td>0.011502</td>\n",
       "      <td>0.006712</td>\n",
       "    </tr>\n",
       "    <tr>\n",
       "      <th>2019-05-28</th>\n",
       "      <td>2802.389893</td>\n",
       "      <td>-0.008411</td>\n",
       "      <td>-1</td>\n",
       "      <td>0.001353</td>\n",
       "      <td>-0.011986</td>\n",
       "      <td>-0.002828</td>\n",
       "      <td>0.008460</td>\n",
       "      <td>-0.006772</td>\n",
       "      <td>-0.005854</td>\n",
       "      <td>0.008856</td>\n",
       "      <td>...</td>\n",
       "      <td>0.006588</td>\n",
       "      <td>0.000038</td>\n",
       "      <td>0.003472</td>\n",
       "      <td>-0.006086</td>\n",
       "      <td>0.001047</td>\n",
       "      <td>0.004626</td>\n",
       "      <td>0.002082</td>\n",
       "      <td>0.002146</td>\n",
       "      <td>0.000017</td>\n",
       "      <td>0.011502</td>\n",
       "    </tr>\n",
       "    <tr>\n",
       "      <th>2019-05-29</th>\n",
       "      <td>2783.020020</td>\n",
       "      <td>-0.006936</td>\n",
       "      <td>-1</td>\n",
       "      <td>-0.008411</td>\n",
       "      <td>0.001353</td>\n",
       "      <td>-0.011986</td>\n",
       "      <td>-0.002828</td>\n",
       "      <td>0.008460</td>\n",
       "      <td>-0.006772</td>\n",
       "      <td>-0.005854</td>\n",
       "      <td>...</td>\n",
       "      <td>-0.000630</td>\n",
       "      <td>0.006588</td>\n",
       "      <td>0.000038</td>\n",
       "      <td>0.003472</td>\n",
       "      <td>-0.006086</td>\n",
       "      <td>0.001047</td>\n",
       "      <td>0.004626</td>\n",
       "      <td>0.002082</td>\n",
       "      <td>0.002146</td>\n",
       "      <td>0.000017</td>\n",
       "    </tr>\n",
       "    <tr>\n",
       "      <th>2019-05-30</th>\n",
       "      <td>2788.860107</td>\n",
       "      <td>0.002096</td>\n",
       "      <td>1</td>\n",
       "      <td>-0.006936</td>\n",
       "      <td>-0.008411</td>\n",
       "      <td>0.001353</td>\n",
       "      <td>-0.011986</td>\n",
       "      <td>-0.002828</td>\n",
       "      <td>0.008460</td>\n",
       "      <td>-0.006772</td>\n",
       "      <td>...</td>\n",
       "      <td>0.000509</td>\n",
       "      <td>-0.000630</td>\n",
       "      <td>0.006588</td>\n",
       "      <td>0.000038</td>\n",
       "      <td>0.003472</td>\n",
       "      <td>-0.006086</td>\n",
       "      <td>0.001047</td>\n",
       "      <td>0.004626</td>\n",
       "      <td>0.002082</td>\n",
       "      <td>0.002146</td>\n",
       "    </tr>\n",
       "    <tr>\n",
       "      <th>2019-05-31</th>\n",
       "      <td>2752.060059</td>\n",
       "      <td>-0.013283</td>\n",
       "      <td>-1</td>\n",
       "      <td>0.002096</td>\n",
       "      <td>-0.006936</td>\n",
       "      <td>-0.008411</td>\n",
       "      <td>0.001353</td>\n",
       "      <td>-0.011986</td>\n",
       "      <td>-0.002828</td>\n",
       "      <td>0.008460</td>\n",
       "      <td>...</td>\n",
       "      <td>-0.002276</td>\n",
       "      <td>0.000509</td>\n",
       "      <td>-0.000630</td>\n",
       "      <td>0.006588</td>\n",
       "      <td>0.000038</td>\n",
       "      <td>0.003472</td>\n",
       "      <td>-0.006086</td>\n",
       "      <td>0.001047</td>\n",
       "      <td>0.004626</td>\n",
       "      <td>0.002082</td>\n",
       "    </tr>\n",
       "  </tbody>\n",
       "</table>\n",
       "<p>104 rows × 42 columns</p>\n",
       "</div>"
      ],
      "text/plain": [
       "                  Price    Return  Direction     Lag 1     Lag 2     Lag 3  \\\n",
       "Date                                                                         \n",
       "2019-01-02  2510.030029  0.001268          1  0.008457 -0.001242  0.008526   \n",
       "2019-01-03  2447.889893 -0.025068         -1  0.001268  0.008457 -0.001242   \n",
       "2019-01-04  2531.939941  0.033759          1 -0.025068  0.001268  0.008457   \n",
       "2019-01-07  2549.689941  0.006986          1  0.033759 -0.025068  0.001268   \n",
       "2019-01-08  2574.409912  0.009649          1  0.006986  0.033759 -0.025068   \n",
       "...                 ...       ...        ...       ...       ...       ...   \n",
       "2019-05-24  2826.060059  0.001353          1 -0.011986 -0.002828  0.008460   \n",
       "2019-05-28  2802.389893 -0.008411         -1  0.001353 -0.011986 -0.002828   \n",
       "2019-05-29  2783.020020 -0.006936         -1 -0.008411  0.001353 -0.011986   \n",
       "2019-05-30  2788.860107  0.002096          1 -0.006936 -0.008411  0.001353   \n",
       "2019-05-31  2752.060059 -0.013283         -1  0.002096 -0.006936 -0.008411   \n",
       "\n",
       "               Lag 4     Lag 5     Lag 6     Lag 7  ...    Lag 30    Lag 31  \\\n",
       "Date                                                ...                       \n",
       "2019-01-02  0.048403 -0.027487 -0.020803 -0.015898  ...  0.010538 -0.007596   \n",
       "2019-01-03  0.008526  0.048403 -0.027487 -0.020803  ...  0.002221  0.010538   \n",
       "2019-01-04 -0.001242  0.008526  0.048403 -0.027487  ... -0.016783  0.002221   \n",
       "2019-01-07  0.008457 -0.001242  0.008526  0.048403  ... -0.018318 -0.016783   \n",
       "2019-01-08  0.001268  0.008457 -0.001242  0.008526  ...  0.003039 -0.018318   \n",
       "...              ...       ...       ...       ...  ...       ...       ...   \n",
       "2019-05-24 -0.006772 -0.005854  0.008856  0.005822  ...  0.000038  0.003472   \n",
       "2019-05-28  0.008460 -0.006772 -0.005854  0.008856  ...  0.006588  0.000038   \n",
       "2019-05-29 -0.002828  0.008460 -0.006772 -0.005854  ... -0.000630  0.006588   \n",
       "2019-05-30 -0.011986 -0.002828  0.008460 -0.006772  ...  0.000509 -0.000630   \n",
       "2019-05-31  0.001353 -0.011986 -0.002828  0.008460  ... -0.002276  0.000509   \n",
       "\n",
       "              Lag 32    Lag 33    Lag 34    Lag 35    Lag 36    Lag 37  \\\n",
       "Date                                                                     \n",
       "2019-01-02 -0.001483 -0.019898 -0.009242 -0.002512  0.020987  0.006240   \n",
       "2019-01-03 -0.007596 -0.001483 -0.019898 -0.009242 -0.002512  0.020987   \n",
       "2019-01-04  0.010538 -0.007596 -0.001483 -0.019898 -0.009242 -0.002512   \n",
       "2019-01-07  0.002221  0.010538 -0.007596 -0.001483 -0.019898 -0.009242   \n",
       "2019-01-08 -0.016783  0.002221  0.010538 -0.007596 -0.001483 -0.019898   \n",
       "...              ...       ...       ...       ...       ...       ...   \n",
       "2019-05-24 -0.006086  0.001047  0.004626  0.002082  0.002146  0.000017   \n",
       "2019-05-28  0.003472 -0.006086  0.001047  0.004626  0.002082  0.002146   \n",
       "2019-05-29  0.000038  0.003472 -0.006086  0.001047  0.004626  0.002082   \n",
       "2019-05-30  0.006588  0.000038  0.003472 -0.006086  0.001047  0.004626   \n",
       "2019-05-31 -0.000630  0.006588  0.000038  0.003472 -0.006086  0.001047   \n",
       "\n",
       "              Lag 38    Lag 39  \n",
       "Date                            \n",
       "2019-01-02  0.005585 -0.006337  \n",
       "2019-01-03  0.006240  0.005585  \n",
       "2019-01-04  0.020987  0.006240  \n",
       "2019-01-07 -0.002512  0.020987  \n",
       "2019-01-08 -0.009242 -0.002512  \n",
       "...              ...       ...  \n",
       "2019-05-24  0.011502  0.006712  \n",
       "2019-05-28  0.000017  0.011502  \n",
       "2019-05-29  0.002146  0.000017  \n",
       "2019-05-30  0.002082  0.002146  \n",
       "2019-05-31  0.004626  0.002082  \n",
       "\n",
       "[104 rows x 42 columns]"
      ]
     },
     "execution_count": 53,
     "metadata": {},
     "output_type": "execute_result"
    }
   ],
   "source": [
    "df_test = pd.read_csv('test_set.csv', index_col='Date', parse_dates=['Date'])\n",
    "df_test"
   ]
  },
  {
   "cell_type": "code",
   "execution_count": 54,
   "id": "26166c01",
   "metadata": {
    "scrolled": true
   },
   "outputs": [],
   "source": [
    "df_test['Prediction'] = clf_log.predict(X_test)"
   ]
  },
  {
   "cell_type": "code",
   "execution_count": 55,
   "id": "92ebc784",
   "metadata": {},
   "outputs": [
    {
     "data": {
      "text/plain": [
       " 1    61\n",
       "-1    43\n",
       "Name: Prediction, dtype: int64"
      ]
     },
     "execution_count": 55,
     "metadata": {},
     "output_type": "execute_result"
    }
   ],
   "source": [
    "df_test['Prediction'].value_counts()"
   ]
  },
  {
   "cell_type": "code",
   "execution_count": 56,
   "id": "64b8c17f",
   "metadata": {},
   "outputs": [
    {
     "data": {
      "text/plain": [
       "0.5192307692307693"
      ]
     },
     "execution_count": 56,
     "metadata": {},
     "output_type": "execute_result"
    }
   ],
   "source": [
    "accuracy_score(y_true=df_test.Direction, y_pred=df_test.Prediction)"
   ]
  },
  {
   "cell_type": "code",
   "execution_count": 57,
   "id": "39ed4496",
   "metadata": {},
   "outputs": [
    {
     "data": {
      "text/plain": [
       "array([0.41860465, 0.59016393])"
      ]
     },
     "execution_count": 57,
     "metadata": {},
     "output_type": "execute_result"
    }
   ],
   "source": [
    "f1_score(df_test.Direction, df_test.Prediction, average=None, labels=[-1,1])"
   ]
  },
  {
   "cell_type": "markdown",
   "id": "e3297a4a",
   "metadata": {},
   "source": [
    "### SVM"
   ]
  },
  {
   "cell_type": "code",
   "execution_count": 58,
   "id": "8320a305",
   "metadata": {},
   "outputs": [],
   "source": [
    "from sklearn import svm"
   ]
  },
  {
   "cell_type": "code",
   "execution_count": 59,
   "id": "3deb58d9",
   "metadata": {},
   "outputs": [],
   "source": [
    "df_train = pd.read_csv('train_set.csv', index_col='Date', parse_dates=['Date'])"
   ]
  },
  {
   "cell_type": "code",
   "execution_count": 60,
   "id": "2edaf37a",
   "metadata": {},
   "outputs": [],
   "source": [
    "clf_svm = svm.SVC(C=1.4, kernel='rbf', class_weight='balanced', max_iter=1000000)   "
   ]
  },
  {
   "cell_type": "code",
   "execution_count": 61,
   "id": "d875ea6e",
   "metadata": {},
   "outputs": [
    {
     "data": {
      "text/plain": [
       "SVC(C=1.4, class_weight='balanced', max_iter=1000000)"
      ]
     },
     "execution_count": 61,
     "metadata": {},
     "output_type": "execute_result"
    }
   ],
   "source": [
    "clf_svm.fit(X_train, Y_train)"
   ]
  },
  {
   "cell_type": "code",
   "execution_count": 62,
   "id": "038bb8c1",
   "metadata": {},
   "outputs": [],
   "source": [
    "df_train['Prediction'] = clf_svm.predict(X_train)"
   ]
  },
  {
   "cell_type": "code",
   "execution_count": 63,
   "id": "ae0f8d5e",
   "metadata": {},
   "outputs": [
    {
     "data": {
      "text/plain": [
       " 1    605\n",
       "-1    509\n",
       "Name: Prediction, dtype: int64"
      ]
     },
     "execution_count": 63,
     "metadata": {},
     "output_type": "execute_result"
    }
   ],
   "source": [
    "df_train['Prediction'].value_counts()"
   ]
  },
  {
   "cell_type": "code",
   "execution_count": 64,
   "id": "81d9bf82",
   "metadata": {},
   "outputs": [
    {
     "data": {
      "text/plain": [
       "0.8563734290843806"
      ]
     },
     "execution_count": 64,
     "metadata": {},
     "output_type": "execute_result"
    }
   ],
   "source": [
    "accuracy_score(y_true=df_train.Direction, y_pred=df_train.Prediction)"
   ]
  },
  {
   "cell_type": "code",
   "execution_count": 65,
   "id": "f2e2707e",
   "metadata": {
    "scrolled": false
   },
   "outputs": [
    {
     "data": {
      "text/plain": [
       "array([0.84585742, 0.86554622])"
      ]
     },
     "execution_count": 65,
     "metadata": {},
     "output_type": "execute_result"
    }
   ],
   "source": [
    "f1_score(df_train.Direction, df_train.Prediction, average=None, labels=[-1,1])"
   ]
  },
  {
   "cell_type": "markdown",
   "id": "d60030c9",
   "metadata": {},
   "source": [
    "#### Backtesting"
   ]
  },
  {
   "cell_type": "code",
   "execution_count": 66,
   "id": "7f6c88d6",
   "metadata": {},
   "outputs": [],
   "source": [
    "df_train['Strategy_ret'] = df_train['Return'] * df_train['Prediction']\n",
    "df_train['Strategy'] = np.exp(df_train['Strategy_ret'].cumsum())\n",
    "df_train['S&P 500'] = np.exp(df_train['Return'].cumsum())"
   ]
  },
  {
   "cell_type": "code",
   "execution_count": 67,
   "id": "67537f9e",
   "metadata": {
    "scrolled": false
   },
   "outputs": [
    {
     "data": {
      "image/png": "[encoded data removed]",
      "text/plain": [
       "<Figure size 864x576 with 1 Axes>"
      ]
     },
     "metadata": {},
     "output_type": "display_data"
    }
   ],
   "source": [
    "df_train[['Strategy','S&P 500']].plot(figsize=(12,8))\n",
    "plt.legend(fontsize=13)\n",
    "plt.show()"
   ]
  },
  {
   "cell_type": "code",
   "execution_count": 68,
   "id": "de18c9af",
   "metadata": {},
   "outputs": [],
   "source": [
    "df_train.rename(columns={'Return':'Buy & Hold', 'Strategy_ret':'SVM Strategy'}, inplace=True)"
   ]
  },
  {
   "cell_type": "code",
   "execution_count": 69,
   "id": "1a52c4d2",
   "metadata": {},
   "outputs": [
    {
     "data": {
      "text/html": [
       "<div>\n",
       "<style scoped>\n",
       "    .dataframe tbody tr th:only-of-type {\n",
       "        vertical-align: middle;\n",
       "    }\n",
       "\n",
       "    .dataframe tbody tr th {\n",
       "        vertical-align: top;\n",
       "    }\n",
       "\n",
       "    .dataframe thead th {\n",
       "        text-align: right;\n",
       "    }\n",
       "</style>\n",
       "<table border=\"1\" class=\"dataframe\">\n",
       "  <thead>\n",
       "    <tr style=\"text-align: right;\">\n",
       "      <th></th>\n",
       "      <th>Annualized Return</th>\n",
       "      <th>Annualized Risk</th>\n",
       "    </tr>\n",
       "  </thead>\n",
       "  <tbody>\n",
       "    <tr>\n",
       "      <th>Buy &amp; Hold</th>\n",
       "      <td>0.053495</td>\n",
       "      <td>0.135776</td>\n",
       "    </tr>\n",
       "    <tr>\n",
       "      <th>SVM Strategy</th>\n",
       "      <td>1.142612</td>\n",
       "      <td>0.115156</td>\n",
       "    </tr>\n",
       "  </tbody>\n",
       "</table>\n",
       "</div>"
      ],
      "text/plain": [
       "              Annualized Return  Annualized Risk\n",
       "Buy & Hold             0.053495         0.135776\n",
       "SVM Strategy           1.142612         0.115156"
      ]
     },
     "execution_count": 69,
     "metadata": {},
     "output_type": "execute_result"
    }
   ],
   "source": [
    "ann_rr(df_train[['Buy & Hold', 'SVM Strategy']])"
   ]
  },
  {
   "cell_type": "code",
   "execution_count": 70,
   "id": "65d54086",
   "metadata": {
    "scrolled": true
   },
   "outputs": [
    {
     "data": {
      "text/plain": [
       "2.0    621\n",
       "0.0    493\n",
       "Name: Trades, dtype: int64"
      ]
     },
     "execution_count": 70,
     "metadata": {},
     "output_type": "execute_result"
    }
   ],
   "source": [
    "df_train['Trades'] = df_train['Prediction'].diff().fillna(0).abs()\n",
    "df_train['Trades'].value_counts()"
   ]
  },
  {
   "cell_type": "code",
   "execution_count": 71,
   "id": "6cfbf7c5",
   "metadata": {
    "scrolled": false
   },
   "outputs": [],
   "source": [
    "df_test = pd.read_csv('test_set.csv', index_col='Date', parse_dates=['Date'])"
   ]
  },
  {
   "cell_type": "code",
   "execution_count": 72,
   "id": "070ca8bb",
   "metadata": {},
   "outputs": [],
   "source": [
    "df_test['Prediction'] = clf_svm.predict(X_test)"
   ]
  },
  {
   "cell_type": "code",
   "execution_count": 73,
   "id": "53d8e54d",
   "metadata": {},
   "outputs": [
    {
     "data": {
      "text/plain": [
       " 1    53\n",
       "-1    51\n",
       "Name: Prediction, dtype: int64"
      ]
     },
     "execution_count": 73,
     "metadata": {},
     "output_type": "execute_result"
    }
   ],
   "source": [
    "df_test['Prediction'].value_counts()"
   ]
  },
  {
   "cell_type": "code",
   "execution_count": 74,
   "id": "689f0965",
   "metadata": {},
   "outputs": [
    {
     "data": {
      "text/plain": [
       "0.5769230769230769"
      ]
     },
     "execution_count": 74,
     "metadata": {},
     "output_type": "execute_result"
    }
   ],
   "source": [
    "accuracy_score(y_true=df_test.Direction, y_pred=df_test.Prediction)"
   ]
  },
  {
   "cell_type": "code",
   "execution_count": 75,
   "id": "c04ad5c0",
   "metadata": {},
   "outputs": [
    {
     "data": {
      "text/plain": [
       "array([0.53191489, 0.61403509])"
      ]
     },
     "execution_count": 75,
     "metadata": {},
     "output_type": "execute_result"
    }
   ],
   "source": [
    "f1_score(df_test.Direction, df_test.Prediction, average=None, labels=[-1,1])"
   ]
  },
  {
   "cell_type": "code",
   "execution_count": 76,
   "id": "f3b91e68",
   "metadata": {},
   "outputs": [
    {
     "name": "stdout",
     "output_type": "stream",
     "text": [
      "              precision    recall  f1-score   support\n",
      "\n",
      "          -1       0.49      0.58      0.53        43\n",
      "           1       0.66      0.57      0.61        61\n",
      "\n",
      "    accuracy                           0.58       104\n",
      "   macro avg       0.58      0.58      0.57       104\n",
      "weighted avg       0.59      0.58      0.58       104\n",
      "\n",
      "[[25 18]\n",
      " [26 35]]\n"
     ]
    }
   ],
   "source": [
    "print(classification_report(Y_test, df_test.Prediction))\n",
    "print(confusion_matrix(Y_test, df_test.Prediction))  "
   ]
  },
  {
   "cell_type": "code",
   "execution_count": 77,
   "id": "6348c7fc",
   "metadata": {},
   "outputs": [
    {
     "name": "stdout",
     "output_type": "stream",
     "text": [
      "{'C': 1.9000000000000008}\n",
      "-------------------------------------------------------\n",
      "*** Train ***\n",
      "              precision    recall  f1-score   support\n",
      "\n",
      "          -1       0.88      0.85      0.87       529\n",
      "           1       0.87      0.89      0.88       585\n",
      "\n",
      "    accuracy                           0.87      1114\n",
      "   macro avg       0.87      0.87      0.87      1114\n",
      "weighted avg       0.87      0.87      0.87      1114\n",
      "\n",
      "[[452  77]\n",
      " [ 63 522]]\n",
      "-------------------------------------------------------\n",
      "*** Test ***\n",
      "              precision    recall  f1-score   support\n",
      "\n",
      "          -1       0.47      0.53      0.50        43\n",
      "           1       0.64      0.57      0.60        61\n",
      "\n",
      "    accuracy                           0.56       104\n",
      "   macro avg       0.55      0.55      0.55       104\n",
      "weighted avg       0.57      0.56      0.56       104\n",
      "\n",
      "[[23 20]\n",
      " [26 35]]\n"
     ]
    }
   ],
   "source": [
    "def train_svm(X_train, Y_train, X_test, Y_test):\n",
    "    \n",
    "    # Create a new SVM classifier\n",
    "    svc = svm.SVC(kernel='rbf', class_weight='balanced', max_iter=1000000)\n",
    "    \n",
    "    # Dictionary of all values we want to test for C\n",
    "    params_svm = {'C': np.arange(1, 5, 0.1)}  \n",
    "    \n",
    "    # Use gridsearch to test all values for C\n",
    "    svm_gs = GridSearchCV(svc, params_svm, cv=None, return_train_score=True)      \n",
    "    \n",
    "    # Fit model to the training data\n",
    "    svm_gs.fit(X_train, Y_train)\n",
    "    \n",
    "    # Save the best model\n",
    "    svm_best = svm_gs.best_estimator_\n",
    "\n",
    "    # Print the best C value\n",
    "    print(svm_gs.best_params_)\n",
    "    \n",
    "    pred_train = svm_best.predict(X_train)\n",
    "    pred_test = svm_best.predict(X_test)\n",
    "    \n",
    "    print(55 * '-')\n",
    "    \n",
    "    print('*** Train ***')\n",
    "    print(classification_report(Y_train, pred_train))\n",
    "    print(confusion_matrix(Y_train, pred_train))\n",
    "\n",
    "    print(55 * '-')\n",
    "    \n",
    "    print('*** Test ***')\n",
    "    print(classification_report(Y_test, pred_test))\n",
    "    print(confusion_matrix(Y_test, pred_test))\n",
    "    \n",
    "    return svm_best\n",
    "    \n",
    "clf_svm = train_svm(X_train, Y_train, X_test, Y_test)"
   ]
  },
  {
   "cell_type": "markdown",
   "id": "603a8ef6",
   "metadata": {},
   "source": [
    "### Decision Tree"
   ]
  },
  {
   "cell_type": "code",
   "execution_count": 78,
   "id": "f37d0eb8",
   "metadata": {},
   "outputs": [],
   "source": [
    "from sklearn.tree import DecisionTreeClassifier"
   ]
  },
  {
   "cell_type": "code",
   "execution_count": 79,
   "id": "5e5b5f44",
   "metadata": {},
   "outputs": [],
   "source": [
    "df_train = pd.read_csv('train_set.csv', index_col='Date', parse_dates=['Date'])"
   ]
  },
  {
   "cell_type": "code",
   "execution_count": 80,
   "id": "9ea1465a",
   "metadata": {
    "scrolled": true
   },
   "outputs": [
    {
     "data": {
      "text/plain": [
       "DecisionTreeClassifier(class_weight='balanced')"
      ]
     },
     "execution_count": 80,
     "metadata": {},
     "output_type": "execute_result"
    }
   ],
   "source": [
    "clf_dec = DecisionTreeClassifier(class_weight='balanced')\n",
    "clf_dec.fit(X_train, Y_train)"
   ]
  },
  {
   "cell_type": "code",
   "execution_count": 81,
   "id": "b0163831",
   "metadata": {},
   "outputs": [],
   "source": [
    "df_test = pd.read_csv('test_set.csv', index_col='Date', parse_dates=['Date'])"
   ]
  },
  {
   "cell_type": "code",
   "execution_count": 82,
   "id": "53340ef8",
   "metadata": {},
   "outputs": [],
   "source": [
    "df_test['Prediction'] = clf_dec.predict(X_test)"
   ]
  },
  {
   "cell_type": "code",
   "execution_count": 83,
   "id": "c361a05b",
   "metadata": {},
   "outputs": [
    {
     "data": {
      "text/plain": [
       "-1    54\n",
       " 1    50\n",
       "Name: Prediction, dtype: int64"
      ]
     },
     "execution_count": 83,
     "metadata": {},
     "output_type": "execute_result"
    }
   ],
   "source": [
    "df_test['Prediction'].value_counts()"
   ]
  },
  {
   "cell_type": "code",
   "execution_count": 84,
   "id": "d8176a6e",
   "metadata": {},
   "outputs": [
    {
     "data": {
      "text/plain": [
       "0.5480769230769231"
      ]
     },
     "execution_count": 84,
     "metadata": {},
     "output_type": "execute_result"
    }
   ],
   "source": [
    "accuracy_score(y_true=df_test.Direction, y_pred=df_test.Prediction)"
   ]
  },
  {
   "cell_type": "code",
   "execution_count": 85,
   "id": "f30553be",
   "metadata": {},
   "outputs": [
    {
     "data": {
      "text/plain": [
       "array([0.51546392, 0.57657658])"
      ]
     },
     "execution_count": 85,
     "metadata": {},
     "output_type": "execute_result"
    }
   ],
   "source": [
    "f1_score(df_test.Direction, df_test.Prediction, average=None, labels=[-1,1])"
   ]
  },
  {
   "cell_type": "markdown",
   "id": "33f49840",
   "metadata": {},
   "source": [
    "## Random Forest"
   ]
  },
  {
   "cell_type": "code",
   "execution_count": 86,
   "id": "029bc35f",
   "metadata": {},
   "outputs": [],
   "source": [
    "from sklearn.ensemble import RandomForestClassifier"
   ]
  },
  {
   "cell_type": "code",
   "execution_count": 87,
   "id": "9f9496ed",
   "metadata": {},
   "outputs": [],
   "source": [
    "clf_rf = RandomForestClassifier(class_weight='balanced')"
   ]
  },
  {
   "cell_type": "code",
   "execution_count": 88,
   "id": "8f57d95f",
   "metadata": {},
   "outputs": [
    {
     "data": {
      "text/plain": [
       "RandomForestClassifier(class_weight='balanced')"
      ]
     },
     "execution_count": 88,
     "metadata": {},
     "output_type": "execute_result"
    }
   ],
   "source": [
    "clf_rf.fit(X_train, Y_train)"
   ]
  },
  {
   "cell_type": "code",
   "execution_count": 89,
   "id": "0982e1e9",
   "metadata": {},
   "outputs": [],
   "source": [
    "df_test['Prediction'] = clf_rf.predict(X_test)"
   ]
  },
  {
   "cell_type": "code",
   "execution_count": 90,
   "id": "06a1cbbd",
   "metadata": {},
   "outputs": [
    {
     "data": {
      "text/plain": [
       " 1    63\n",
       "-1    41\n",
       "Name: Prediction, dtype: int64"
      ]
     },
     "execution_count": 90,
     "metadata": {},
     "output_type": "execute_result"
    }
   ],
   "source": [
    "df_test['Prediction'].value_counts()"
   ]
  },
  {
   "cell_type": "code",
   "execution_count": 91,
   "id": "3bde7d4d",
   "metadata": {
    "scrolled": true
   },
   "outputs": [
    {
     "data": {
      "text/plain": [
       "0.4807692307692308"
      ]
     },
     "execution_count": 91,
     "metadata": {},
     "output_type": "execute_result"
    }
   ],
   "source": [
    "accuracy_score(y_true=df_test.Direction, y_pred=df_test.Prediction)"
   ]
  },
  {
   "cell_type": "code",
   "execution_count": 92,
   "id": "b29ce002",
   "metadata": {},
   "outputs": [
    {
     "data": {
      "text/plain": [
       "array([0.35714286, 0.56451613])"
      ]
     },
     "execution_count": 92,
     "metadata": {},
     "output_type": "execute_result"
    }
   ],
   "source": [
    "f1_score(df_test.Direction, df_test.Prediction, average=None, labels=[-1,1])"
   ]
  },
  {
   "cell_type": "code",
   "execution_count": 93,
   "id": "a58ca4ab",
   "metadata": {},
   "outputs": [
    {
     "name": "stdout",
     "output_type": "stream",
     "text": [
      "{'n_estimators': 160}\n",
      "*** Test ***\n",
      "              precision    recall  f1-score   support\n",
      "\n",
      "          -1       0.36      0.37      0.36        43\n",
      "           1       0.54      0.52      0.53        61\n",
      "\n",
      "    accuracy                           0.46       104\n",
      "   macro avg       0.45      0.45      0.45       104\n",
      "weighted avg       0.47      0.46      0.46       104\n",
      "\n",
      "[[16 27]\n",
      " [29 32]]\n"
     ]
    }
   ],
   "source": [
    "def train_random_forest(X_train, Y_train, X_test, Y_test):\n",
    "\n",
    "    # Create a new random forest classifier\n",
    "    rf = RandomForestClassifier()   \n",
    "    \n",
    "    # Dictionary of all values we want to test for n_estimators\n",
    "    params_rf = {'n_estimators':np.arange(100, 210, 10)} \n",
    "    \n",
    "    # Use gridsearch to test all values for n_estimators\n",
    "    rf_gs = GridSearchCV(rf, params_rf, cv=5)\n",
    "    \n",
    "    # Fit model to the training data\n",
    "    rf_gs.fit(X_train, Y_train)\n",
    "    \n",
    "    # Save the best model\n",
    "    rf_best = rf_gs.best_estimator_\n",
    "    \n",
    "    # Print the best n_estimators value\n",
    "    print(rf_gs.best_params_)\n",
    "    \n",
    "    pred_train = rf_best.predict(X_train)\n",
    "    pred_test = rf_best.predict(X_test)\n",
    "    \n",
    "\n",
    "    print('*** Test ***')\n",
    "    print(classification_report(Y_test, pred_test))\n",
    "    print(confusion_matrix(Y_test, pred_test))\n",
    "    \n",
    "    return rf_best\n",
    "    \n",
    "clf_rf = train_random_forest(X_train, Y_train, X_test, Y_test)"
   ]
  }
 ],
 "metadata": {
  "kernelspec": {
   "display_name": "Python 3",
   "language": "python",
   "name": "python3"
  },
  "language_info": {
   "codemirror_mode": {
    "name": "ipython",
    "version": 3
   },
   "file_extension": ".py",
   "mimetype": "text/x-python",
   "name": "python",
   "nbconvert_exporter": "python",
   "pygments_lexer": "ipython3",
   "version": "3.8.8"
  }
 },
 "nbformat": 4,
 "nbformat_minor": 5
}
